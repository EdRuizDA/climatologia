{
 "cells": [
  {
   "cell_type": "raw",
   "id": "9f8098c0-2ade-4ef6-9c95-0f6b470d3d64",
   "metadata": {},
   "source": [
    "Este cuaderno"
   ]
  },
  {
   "cell_type": "markdown",
   "id": "bf330b03-135e-4415-8a2a-3902e9e5c48e",
   "metadata": {},
   "source": [
    "# Librerias"
   ]
  },
  {
   "cell_type": "code",
   "execution_count": 44,
   "id": "b8d06711-e2b8-4c31-b89a-46302243aac8",
   "metadata": {},
   "outputs": [],
   "source": [
    "import os\n",
    "import geopandas as gpd\n",
    "import rasterio\n",
    "from rasterio.plot import show\n",
    "import matplotlib.pyplot as plt\n",
    "import pandas as pd\n",
    "import numpy as np"
   ]
  },
  {
   "cell_type": "markdown",
   "id": "a1b7efa1-b613-46c5-8ba1-2f9a1b39f789",
   "metadata": {},
   "source": [
    "# Extracción de información de los rasters"
   ]
  },
  {
   "cell_type": "markdown",
   "id": "81058781-125a-4d3a-a022-0bcf7de5ffa8",
   "metadata": {},
   "source": [
    "## Definición de la Función"
   ]
  },
  {
   "cell_type": "code",
   "execution_count": 45,
   "id": "3a5eb5c3-e3d3-42f2-be5c-65e61249abac",
   "metadata": {},
   "outputs": [],
   "source": [
    "def extraer_pcp(list1960to1969,listEst,coordenadas,dfs_por_Estacion,path1960to1969xls):\n",
    "    for raster_path in list1960to1969:\n",
    "        with rasterio.open(raster_path) as raster:\n",
    "            raster_name2 = os.path.splitext(os.path.basename(raster_path))[0]\n",
    "            raster_name = raster_name2.split('_')[-1]\n",
    "            \n",
    "            for Est, coordenada in zip(listEst, coordenadas):\n",
    "                PCP = raster.sample([coordenada]) #Obteniendo el generador\n",
    "                pcp = list(PCP) #Convirtiendo el generador en lista\n",
    "                \n",
    "                if pcp and pcp[0]:\n",
    "                    dfs_por_Estacion[Est] = dfs_por_Estacion[Est].append({'año_mes':raster_name,'PCP_mm':pcp[0][0]}, ignore_index=True)\n",
    "                    \n",
    "                    \n",
    "    with pd.ExcelWriter(path1960to1969xls) as writer:\n",
    "        for Est, df_Est in dfs_por_Estacion.items():\n",
    "            df_Est.to_excel(writer, sheet_name=Est, index=False) \n",
    "            \n",
    "    return (\"***LOS ARCHIVOS SE HAN GUARDADO EXITOSAMENTE***\")        "
   ]
  },
  {
   "cell_type": "markdown",
   "id": "d79c5742-7550-460f-91ba-f8c0d4b7e12a",
   "metadata": {},
   "source": [
    "## Proceso de Extraccion"
   ]
  },
  {
   "cell_type": "code",
   "execution_count": 46,
   "id": "e9412007-f5da-46fd-b53b-01f147a484e1",
   "metadata": {},
   "outputs": [
    {
     "name": "stdin",
     "output_type": "stream",
     "text": [
      "PROPORCIONE LA RUTA DONDE SE ENCUENTRAN LOS ARCHIVOS RASTER:  D:\\UAT_Doc\\Sobre_proyecto_de_investigacion\\worldclim\\1960-1969\n"
     ]
    }
   ],
   "source": [
    "#Ruta de acceso al los Rasters\n",
    "pathRasters = input(\"PROPORCIONE LA RUTA DONDE SE ENCUENTRAN LOS ARCHIVOS RASTER: \")"
   ]
  },
  {
   "cell_type": "code",
   "execution_count": 47,
   "id": "193e6a82-cc43-400c-8cc0-05a8486d6e2b",
   "metadata": {},
   "outputs": [
    {
     "name": "stdout",
     "output_type": "stream",
     "text": [
      "***LA LISTA DE RASTERS SE MUESTRA A CONTINUACION: \n"
     ]
    },
    {
     "data": {
      "text/plain": [
       "['D:\\\\UAT_Doc\\\\Sobre_proyecto_de_investigacion\\\\worldclim\\\\1960-1969\\\\wc2.1_2.5m_prec_1960-01.tif',\n",
       " 'D:\\\\UAT_Doc\\\\Sobre_proyecto_de_investigacion\\\\worldclim\\\\1960-1969\\\\wc2.1_2.5m_prec_1960-02.tif',\n",
       " 'D:\\\\UAT_Doc\\\\Sobre_proyecto_de_investigacion\\\\worldclim\\\\1960-1969\\\\wc2.1_2.5m_prec_1960-03.tif',\n",
       " 'D:\\\\UAT_Doc\\\\Sobre_proyecto_de_investigacion\\\\worldclim\\\\1960-1969\\\\wc2.1_2.5m_prec_1960-04.tif',\n",
       " 'D:\\\\UAT_Doc\\\\Sobre_proyecto_de_investigacion\\\\worldclim\\\\1960-1969\\\\wc2.1_2.5m_prec_1960-05.tif',\n",
       " 'D:\\\\UAT_Doc\\\\Sobre_proyecto_de_investigacion\\\\worldclim\\\\1960-1969\\\\wc2.1_2.5m_prec_1960-06.tif',\n",
       " 'D:\\\\UAT_Doc\\\\Sobre_proyecto_de_investigacion\\\\worldclim\\\\1960-1969\\\\wc2.1_2.5m_prec_1960-07.tif',\n",
       " 'D:\\\\UAT_Doc\\\\Sobre_proyecto_de_investigacion\\\\worldclim\\\\1960-1969\\\\wc2.1_2.5m_prec_1960-08.tif',\n",
       " 'D:\\\\UAT_Doc\\\\Sobre_proyecto_de_investigacion\\\\worldclim\\\\1960-1969\\\\wc2.1_2.5m_prec_1960-09.tif',\n",
       " 'D:\\\\UAT_Doc\\\\Sobre_proyecto_de_investigacion\\\\worldclim\\\\1960-1969\\\\wc2.1_2.5m_prec_1960-10.tif',\n",
       " 'D:\\\\UAT_Doc\\\\Sobre_proyecto_de_investigacion\\\\worldclim\\\\1960-1969\\\\wc2.1_2.5m_prec_1960-11.tif',\n",
       " 'D:\\\\UAT_Doc\\\\Sobre_proyecto_de_investigacion\\\\worldclim\\\\1960-1969\\\\wc2.1_2.5m_prec_1960-12.tif',\n",
       " 'D:\\\\UAT_Doc\\\\Sobre_proyecto_de_investigacion\\\\worldclim\\\\1960-1969\\\\wc2.1_2.5m_prec_1961-01.tif',\n",
       " 'D:\\\\UAT_Doc\\\\Sobre_proyecto_de_investigacion\\\\worldclim\\\\1960-1969\\\\wc2.1_2.5m_prec_1961-02.tif',\n",
       " 'D:\\\\UAT_Doc\\\\Sobre_proyecto_de_investigacion\\\\worldclim\\\\1960-1969\\\\wc2.1_2.5m_prec_1961-03.tif',\n",
       " 'D:\\\\UAT_Doc\\\\Sobre_proyecto_de_investigacion\\\\worldclim\\\\1960-1969\\\\wc2.1_2.5m_prec_1961-04.tif',\n",
       " 'D:\\\\UAT_Doc\\\\Sobre_proyecto_de_investigacion\\\\worldclim\\\\1960-1969\\\\wc2.1_2.5m_prec_1961-05.tif',\n",
       " 'D:\\\\UAT_Doc\\\\Sobre_proyecto_de_investigacion\\\\worldclim\\\\1960-1969\\\\wc2.1_2.5m_prec_1961-06.tif',\n",
       " 'D:\\\\UAT_Doc\\\\Sobre_proyecto_de_investigacion\\\\worldclim\\\\1960-1969\\\\wc2.1_2.5m_prec_1961-07.tif',\n",
       " 'D:\\\\UAT_Doc\\\\Sobre_proyecto_de_investigacion\\\\worldclim\\\\1960-1969\\\\wc2.1_2.5m_prec_1961-08.tif',\n",
       " 'D:\\\\UAT_Doc\\\\Sobre_proyecto_de_investigacion\\\\worldclim\\\\1960-1969\\\\wc2.1_2.5m_prec_1961-09.tif',\n",
       " 'D:\\\\UAT_Doc\\\\Sobre_proyecto_de_investigacion\\\\worldclim\\\\1960-1969\\\\wc2.1_2.5m_prec_1961-10.tif',\n",
       " 'D:\\\\UAT_Doc\\\\Sobre_proyecto_de_investigacion\\\\worldclim\\\\1960-1969\\\\wc2.1_2.5m_prec_1961-11.tif',\n",
       " 'D:\\\\UAT_Doc\\\\Sobre_proyecto_de_investigacion\\\\worldclim\\\\1960-1969\\\\wc2.1_2.5m_prec_1961-12.tif',\n",
       " 'D:\\\\UAT_Doc\\\\Sobre_proyecto_de_investigacion\\\\worldclim\\\\1960-1969\\\\wc2.1_2.5m_prec_1962-01.tif',\n",
       " 'D:\\\\UAT_Doc\\\\Sobre_proyecto_de_investigacion\\\\worldclim\\\\1960-1969\\\\wc2.1_2.5m_prec_1962-02.tif',\n",
       " 'D:\\\\UAT_Doc\\\\Sobre_proyecto_de_investigacion\\\\worldclim\\\\1960-1969\\\\wc2.1_2.5m_prec_1962-03.tif',\n",
       " 'D:\\\\UAT_Doc\\\\Sobre_proyecto_de_investigacion\\\\worldclim\\\\1960-1969\\\\wc2.1_2.5m_prec_1962-04.tif',\n",
       " 'D:\\\\UAT_Doc\\\\Sobre_proyecto_de_investigacion\\\\worldclim\\\\1960-1969\\\\wc2.1_2.5m_prec_1962-05.tif',\n",
       " 'D:\\\\UAT_Doc\\\\Sobre_proyecto_de_investigacion\\\\worldclim\\\\1960-1969\\\\wc2.1_2.5m_prec_1962-06.tif',\n",
       " 'D:\\\\UAT_Doc\\\\Sobre_proyecto_de_investigacion\\\\worldclim\\\\1960-1969\\\\wc2.1_2.5m_prec_1962-07.tif',\n",
       " 'D:\\\\UAT_Doc\\\\Sobre_proyecto_de_investigacion\\\\worldclim\\\\1960-1969\\\\wc2.1_2.5m_prec_1962-08.tif',\n",
       " 'D:\\\\UAT_Doc\\\\Sobre_proyecto_de_investigacion\\\\worldclim\\\\1960-1969\\\\wc2.1_2.5m_prec_1962-09.tif',\n",
       " 'D:\\\\UAT_Doc\\\\Sobre_proyecto_de_investigacion\\\\worldclim\\\\1960-1969\\\\wc2.1_2.5m_prec_1962-10.tif',\n",
       " 'D:\\\\UAT_Doc\\\\Sobre_proyecto_de_investigacion\\\\worldclim\\\\1960-1969\\\\wc2.1_2.5m_prec_1962-11.tif',\n",
       " 'D:\\\\UAT_Doc\\\\Sobre_proyecto_de_investigacion\\\\worldclim\\\\1960-1969\\\\wc2.1_2.5m_prec_1962-12.tif',\n",
       " 'D:\\\\UAT_Doc\\\\Sobre_proyecto_de_investigacion\\\\worldclim\\\\1960-1969\\\\wc2.1_2.5m_prec_1963-01.tif',\n",
       " 'D:\\\\UAT_Doc\\\\Sobre_proyecto_de_investigacion\\\\worldclim\\\\1960-1969\\\\wc2.1_2.5m_prec_1963-02.tif',\n",
       " 'D:\\\\UAT_Doc\\\\Sobre_proyecto_de_investigacion\\\\worldclim\\\\1960-1969\\\\wc2.1_2.5m_prec_1963-03.tif',\n",
       " 'D:\\\\UAT_Doc\\\\Sobre_proyecto_de_investigacion\\\\worldclim\\\\1960-1969\\\\wc2.1_2.5m_prec_1963-04.tif',\n",
       " 'D:\\\\UAT_Doc\\\\Sobre_proyecto_de_investigacion\\\\worldclim\\\\1960-1969\\\\wc2.1_2.5m_prec_1963-05.tif',\n",
       " 'D:\\\\UAT_Doc\\\\Sobre_proyecto_de_investigacion\\\\worldclim\\\\1960-1969\\\\wc2.1_2.5m_prec_1963-06.tif',\n",
       " 'D:\\\\UAT_Doc\\\\Sobre_proyecto_de_investigacion\\\\worldclim\\\\1960-1969\\\\wc2.1_2.5m_prec_1963-07.tif',\n",
       " 'D:\\\\UAT_Doc\\\\Sobre_proyecto_de_investigacion\\\\worldclim\\\\1960-1969\\\\wc2.1_2.5m_prec_1963-08.tif',\n",
       " 'D:\\\\UAT_Doc\\\\Sobre_proyecto_de_investigacion\\\\worldclim\\\\1960-1969\\\\wc2.1_2.5m_prec_1963-09.tif',\n",
       " 'D:\\\\UAT_Doc\\\\Sobre_proyecto_de_investigacion\\\\worldclim\\\\1960-1969\\\\wc2.1_2.5m_prec_1963-10.tif',\n",
       " 'D:\\\\UAT_Doc\\\\Sobre_proyecto_de_investigacion\\\\worldclim\\\\1960-1969\\\\wc2.1_2.5m_prec_1963-11.tif',\n",
       " 'D:\\\\UAT_Doc\\\\Sobre_proyecto_de_investigacion\\\\worldclim\\\\1960-1969\\\\wc2.1_2.5m_prec_1963-12.tif',\n",
       " 'D:\\\\UAT_Doc\\\\Sobre_proyecto_de_investigacion\\\\worldclim\\\\1960-1969\\\\wc2.1_2.5m_prec_1964-01.tif',\n",
       " 'D:\\\\UAT_Doc\\\\Sobre_proyecto_de_investigacion\\\\worldclim\\\\1960-1969\\\\wc2.1_2.5m_prec_1964-02.tif',\n",
       " 'D:\\\\UAT_Doc\\\\Sobre_proyecto_de_investigacion\\\\worldclim\\\\1960-1969\\\\wc2.1_2.5m_prec_1964-03.tif',\n",
       " 'D:\\\\UAT_Doc\\\\Sobre_proyecto_de_investigacion\\\\worldclim\\\\1960-1969\\\\wc2.1_2.5m_prec_1964-04.tif',\n",
       " 'D:\\\\UAT_Doc\\\\Sobre_proyecto_de_investigacion\\\\worldclim\\\\1960-1969\\\\wc2.1_2.5m_prec_1964-05.tif',\n",
       " 'D:\\\\UAT_Doc\\\\Sobre_proyecto_de_investigacion\\\\worldclim\\\\1960-1969\\\\wc2.1_2.5m_prec_1964-06.tif',\n",
       " 'D:\\\\UAT_Doc\\\\Sobre_proyecto_de_investigacion\\\\worldclim\\\\1960-1969\\\\wc2.1_2.5m_prec_1964-07.tif',\n",
       " 'D:\\\\UAT_Doc\\\\Sobre_proyecto_de_investigacion\\\\worldclim\\\\1960-1969\\\\wc2.1_2.5m_prec_1964-08.tif',\n",
       " 'D:\\\\UAT_Doc\\\\Sobre_proyecto_de_investigacion\\\\worldclim\\\\1960-1969\\\\wc2.1_2.5m_prec_1964-09.tif',\n",
       " 'D:\\\\UAT_Doc\\\\Sobre_proyecto_de_investigacion\\\\worldclim\\\\1960-1969\\\\wc2.1_2.5m_prec_1964-10.tif',\n",
       " 'D:\\\\UAT_Doc\\\\Sobre_proyecto_de_investigacion\\\\worldclim\\\\1960-1969\\\\wc2.1_2.5m_prec_1964-11.tif',\n",
       " 'D:\\\\UAT_Doc\\\\Sobre_proyecto_de_investigacion\\\\worldclim\\\\1960-1969\\\\wc2.1_2.5m_prec_1964-12.tif',\n",
       " 'D:\\\\UAT_Doc\\\\Sobre_proyecto_de_investigacion\\\\worldclim\\\\1960-1969\\\\wc2.1_2.5m_prec_1965-01.tif',\n",
       " 'D:\\\\UAT_Doc\\\\Sobre_proyecto_de_investigacion\\\\worldclim\\\\1960-1969\\\\wc2.1_2.5m_prec_1965-02.tif',\n",
       " 'D:\\\\UAT_Doc\\\\Sobre_proyecto_de_investigacion\\\\worldclim\\\\1960-1969\\\\wc2.1_2.5m_prec_1965-03.tif',\n",
       " 'D:\\\\UAT_Doc\\\\Sobre_proyecto_de_investigacion\\\\worldclim\\\\1960-1969\\\\wc2.1_2.5m_prec_1965-04.tif',\n",
       " 'D:\\\\UAT_Doc\\\\Sobre_proyecto_de_investigacion\\\\worldclim\\\\1960-1969\\\\wc2.1_2.5m_prec_1965-05.tif',\n",
       " 'D:\\\\UAT_Doc\\\\Sobre_proyecto_de_investigacion\\\\worldclim\\\\1960-1969\\\\wc2.1_2.5m_prec_1965-06.tif',\n",
       " 'D:\\\\UAT_Doc\\\\Sobre_proyecto_de_investigacion\\\\worldclim\\\\1960-1969\\\\wc2.1_2.5m_prec_1965-07.tif',\n",
       " 'D:\\\\UAT_Doc\\\\Sobre_proyecto_de_investigacion\\\\worldclim\\\\1960-1969\\\\wc2.1_2.5m_prec_1965-08.tif',\n",
       " 'D:\\\\UAT_Doc\\\\Sobre_proyecto_de_investigacion\\\\worldclim\\\\1960-1969\\\\wc2.1_2.5m_prec_1965-09.tif',\n",
       " 'D:\\\\UAT_Doc\\\\Sobre_proyecto_de_investigacion\\\\worldclim\\\\1960-1969\\\\wc2.1_2.5m_prec_1965-10.tif',\n",
       " 'D:\\\\UAT_Doc\\\\Sobre_proyecto_de_investigacion\\\\worldclim\\\\1960-1969\\\\wc2.1_2.5m_prec_1965-11.tif',\n",
       " 'D:\\\\UAT_Doc\\\\Sobre_proyecto_de_investigacion\\\\worldclim\\\\1960-1969\\\\wc2.1_2.5m_prec_1965-12.tif',\n",
       " 'D:\\\\UAT_Doc\\\\Sobre_proyecto_de_investigacion\\\\worldclim\\\\1960-1969\\\\wc2.1_2.5m_prec_1966-01.tif',\n",
       " 'D:\\\\UAT_Doc\\\\Sobre_proyecto_de_investigacion\\\\worldclim\\\\1960-1969\\\\wc2.1_2.5m_prec_1966-02.tif',\n",
       " 'D:\\\\UAT_Doc\\\\Sobre_proyecto_de_investigacion\\\\worldclim\\\\1960-1969\\\\wc2.1_2.5m_prec_1966-03.tif',\n",
       " 'D:\\\\UAT_Doc\\\\Sobre_proyecto_de_investigacion\\\\worldclim\\\\1960-1969\\\\wc2.1_2.5m_prec_1966-04.tif',\n",
       " 'D:\\\\UAT_Doc\\\\Sobre_proyecto_de_investigacion\\\\worldclim\\\\1960-1969\\\\wc2.1_2.5m_prec_1966-05.tif',\n",
       " 'D:\\\\UAT_Doc\\\\Sobre_proyecto_de_investigacion\\\\worldclim\\\\1960-1969\\\\wc2.1_2.5m_prec_1966-06.tif',\n",
       " 'D:\\\\UAT_Doc\\\\Sobre_proyecto_de_investigacion\\\\worldclim\\\\1960-1969\\\\wc2.1_2.5m_prec_1966-07.tif',\n",
       " 'D:\\\\UAT_Doc\\\\Sobre_proyecto_de_investigacion\\\\worldclim\\\\1960-1969\\\\wc2.1_2.5m_prec_1966-08.tif',\n",
       " 'D:\\\\UAT_Doc\\\\Sobre_proyecto_de_investigacion\\\\worldclim\\\\1960-1969\\\\wc2.1_2.5m_prec_1966-09.tif',\n",
       " 'D:\\\\UAT_Doc\\\\Sobre_proyecto_de_investigacion\\\\worldclim\\\\1960-1969\\\\wc2.1_2.5m_prec_1966-10.tif',\n",
       " 'D:\\\\UAT_Doc\\\\Sobre_proyecto_de_investigacion\\\\worldclim\\\\1960-1969\\\\wc2.1_2.5m_prec_1966-11.tif',\n",
       " 'D:\\\\UAT_Doc\\\\Sobre_proyecto_de_investigacion\\\\worldclim\\\\1960-1969\\\\wc2.1_2.5m_prec_1966-12.tif',\n",
       " 'D:\\\\UAT_Doc\\\\Sobre_proyecto_de_investigacion\\\\worldclim\\\\1960-1969\\\\wc2.1_2.5m_prec_1967-01.tif',\n",
       " 'D:\\\\UAT_Doc\\\\Sobre_proyecto_de_investigacion\\\\worldclim\\\\1960-1969\\\\wc2.1_2.5m_prec_1967-02.tif',\n",
       " 'D:\\\\UAT_Doc\\\\Sobre_proyecto_de_investigacion\\\\worldclim\\\\1960-1969\\\\wc2.1_2.5m_prec_1967-03.tif',\n",
       " 'D:\\\\UAT_Doc\\\\Sobre_proyecto_de_investigacion\\\\worldclim\\\\1960-1969\\\\wc2.1_2.5m_prec_1967-04.tif',\n",
       " 'D:\\\\UAT_Doc\\\\Sobre_proyecto_de_investigacion\\\\worldclim\\\\1960-1969\\\\wc2.1_2.5m_prec_1967-05.tif',\n",
       " 'D:\\\\UAT_Doc\\\\Sobre_proyecto_de_investigacion\\\\worldclim\\\\1960-1969\\\\wc2.1_2.5m_prec_1967-06.tif',\n",
       " 'D:\\\\UAT_Doc\\\\Sobre_proyecto_de_investigacion\\\\worldclim\\\\1960-1969\\\\wc2.1_2.5m_prec_1967-07.tif',\n",
       " 'D:\\\\UAT_Doc\\\\Sobre_proyecto_de_investigacion\\\\worldclim\\\\1960-1969\\\\wc2.1_2.5m_prec_1967-08.tif',\n",
       " 'D:\\\\UAT_Doc\\\\Sobre_proyecto_de_investigacion\\\\worldclim\\\\1960-1969\\\\wc2.1_2.5m_prec_1967-09.tif',\n",
       " 'D:\\\\UAT_Doc\\\\Sobre_proyecto_de_investigacion\\\\worldclim\\\\1960-1969\\\\wc2.1_2.5m_prec_1967-10.tif',\n",
       " 'D:\\\\UAT_Doc\\\\Sobre_proyecto_de_investigacion\\\\worldclim\\\\1960-1969\\\\wc2.1_2.5m_prec_1967-11.tif',\n",
       " 'D:\\\\UAT_Doc\\\\Sobre_proyecto_de_investigacion\\\\worldclim\\\\1960-1969\\\\wc2.1_2.5m_prec_1967-12.tif',\n",
       " 'D:\\\\UAT_Doc\\\\Sobre_proyecto_de_investigacion\\\\worldclim\\\\1960-1969\\\\wc2.1_2.5m_prec_1968-01.tif',\n",
       " 'D:\\\\UAT_Doc\\\\Sobre_proyecto_de_investigacion\\\\worldclim\\\\1960-1969\\\\wc2.1_2.5m_prec_1968-02.tif',\n",
       " 'D:\\\\UAT_Doc\\\\Sobre_proyecto_de_investigacion\\\\worldclim\\\\1960-1969\\\\wc2.1_2.5m_prec_1968-03.tif',\n",
       " 'D:\\\\UAT_Doc\\\\Sobre_proyecto_de_investigacion\\\\worldclim\\\\1960-1969\\\\wc2.1_2.5m_prec_1968-04.tif',\n",
       " 'D:\\\\UAT_Doc\\\\Sobre_proyecto_de_investigacion\\\\worldclim\\\\1960-1969\\\\wc2.1_2.5m_prec_1968-05.tif',\n",
       " 'D:\\\\UAT_Doc\\\\Sobre_proyecto_de_investigacion\\\\worldclim\\\\1960-1969\\\\wc2.1_2.5m_prec_1968-06.tif',\n",
       " 'D:\\\\UAT_Doc\\\\Sobre_proyecto_de_investigacion\\\\worldclim\\\\1960-1969\\\\wc2.1_2.5m_prec_1968-07.tif',\n",
       " 'D:\\\\UAT_Doc\\\\Sobre_proyecto_de_investigacion\\\\worldclim\\\\1960-1969\\\\wc2.1_2.5m_prec_1968-08.tif',\n",
       " 'D:\\\\UAT_Doc\\\\Sobre_proyecto_de_investigacion\\\\worldclim\\\\1960-1969\\\\wc2.1_2.5m_prec_1968-09.tif',\n",
       " 'D:\\\\UAT_Doc\\\\Sobre_proyecto_de_investigacion\\\\worldclim\\\\1960-1969\\\\wc2.1_2.5m_prec_1968-10.tif',\n",
       " 'D:\\\\UAT_Doc\\\\Sobre_proyecto_de_investigacion\\\\worldclim\\\\1960-1969\\\\wc2.1_2.5m_prec_1968-11.tif',\n",
       " 'D:\\\\UAT_Doc\\\\Sobre_proyecto_de_investigacion\\\\worldclim\\\\1960-1969\\\\wc2.1_2.5m_prec_1968-12.tif',\n",
       " 'D:\\\\UAT_Doc\\\\Sobre_proyecto_de_investigacion\\\\worldclim\\\\1960-1969\\\\wc2.1_2.5m_prec_1969-01.tif',\n",
       " 'D:\\\\UAT_Doc\\\\Sobre_proyecto_de_investigacion\\\\worldclim\\\\1960-1969\\\\wc2.1_2.5m_prec_1969-02.tif',\n",
       " 'D:\\\\UAT_Doc\\\\Sobre_proyecto_de_investigacion\\\\worldclim\\\\1960-1969\\\\wc2.1_2.5m_prec_1969-03.tif',\n",
       " 'D:\\\\UAT_Doc\\\\Sobre_proyecto_de_investigacion\\\\worldclim\\\\1960-1969\\\\wc2.1_2.5m_prec_1969-04.tif',\n",
       " 'D:\\\\UAT_Doc\\\\Sobre_proyecto_de_investigacion\\\\worldclim\\\\1960-1969\\\\wc2.1_2.5m_prec_1969-05.tif',\n",
       " 'D:\\\\UAT_Doc\\\\Sobre_proyecto_de_investigacion\\\\worldclim\\\\1960-1969\\\\wc2.1_2.5m_prec_1969-06.tif',\n",
       " 'D:\\\\UAT_Doc\\\\Sobre_proyecto_de_investigacion\\\\worldclim\\\\1960-1969\\\\wc2.1_2.5m_prec_1969-07.tif',\n",
       " 'D:\\\\UAT_Doc\\\\Sobre_proyecto_de_investigacion\\\\worldclim\\\\1960-1969\\\\wc2.1_2.5m_prec_1969-08.tif',\n",
       " 'D:\\\\UAT_Doc\\\\Sobre_proyecto_de_investigacion\\\\worldclim\\\\1960-1969\\\\wc2.1_2.5m_prec_1969-09.tif',\n",
       " 'D:\\\\UAT_Doc\\\\Sobre_proyecto_de_investigacion\\\\worldclim\\\\1960-1969\\\\wc2.1_2.5m_prec_1969-10.tif',\n",
       " 'D:\\\\UAT_Doc\\\\Sobre_proyecto_de_investigacion\\\\worldclim\\\\1960-1969\\\\wc2.1_2.5m_prec_1969-11.tif',\n",
       " 'D:\\\\UAT_Doc\\\\Sobre_proyecto_de_investigacion\\\\worldclim\\\\1960-1969\\\\wc2.1_2.5m_prec_1969-12.tif']"
      ]
     },
     "execution_count": 47,
     "metadata": {},
     "output_type": "execute_result"
    }
   ],
   "source": [
    "# Elaboracion de listas de acceso\n",
    "listRasters = [os.path.join (pathRasters, band) for band in os.listdir(pathRasters) if band.endswith('tif')]\n",
    "print(\"***LA LISTA DE RASTERS SE MUESTRA A CONTINUACION: \")\n",
    "listRasters"
   ]
  },
  {
   "cell_type": "code",
   "execution_count": 48,
   "id": "cc984be2-74f3-492a-9f26-19e65fb46eaa",
   "metadata": {},
   "outputs": [],
   "source": [
    "#Verificacion de que las rutas existen\n",
    "for raster_path in listRasters:\n",
    "    if not os.path.exists(raster_path):\n",
    "        print(f'el archivo {raster_path} no existe.')\n",
    "        raise FileNotFoundError (f'El archivo {raster_path} no existe.')"
   ]
  },
  {
   "cell_type": "code",
   "execution_count": 49,
   "id": "fa646d13-38e9-4c84-a73c-a6bd9f0de87c",
   "metadata": {},
   "outputs": [
    {
     "name": "stdin",
     "output_type": "stream",
     "text": [
      "PROPORCIONE LA RUTA DONDE SE ENCUENTRA EL ARCHIVO SHP DE LAS ESTACIONES O PUNTOS: D:\\UAT_Doc\\Climatologia_Tomates_Tamos\n",
      "PROPORCIONE EL NOMBRE DEL SHAPEFILE DE LAS ESTACIONES O PUNTOS: Estaciones\n"
     ]
    },
    {
     "name": "stdout",
     "output_type": "stream",
     "text": [
      "EL SHP SE ENCUENTRA EN: D:\\UAT_Doc\\Climatologia_Tomates_Tamos\\Estaciones.shp\n",
      "***LAS ESTACIONES O PUNTOS SON LOS SIGUIENTES: \n"
     ]
    },
    {
     "data": {
      "text/html": [
       "<div>\n",
       "<style scoped>\n",
       "    .dataframe tbody tr th:only-of-type {\n",
       "        vertical-align: middle;\n",
       "    }\n",
       "\n",
       "    .dataframe tbody tr th {\n",
       "        vertical-align: top;\n",
       "    }\n",
       "\n",
       "    .dataframe thead th {\n",
       "        text-align: right;\n",
       "    }\n",
       "</style>\n",
       "<table border=\"1\" class=\"dataframe\">\n",
       "  <thead>\n",
       "    <tr style=\"text-align: right;\">\n",
       "      <th></th>\n",
       "      <th>Estacion</th>\n",
       "      <th>Nom_Est</th>\n",
       "      <th>Mun</th>\n",
       "      <th>Estado</th>\n",
       "      <th>Situacion</th>\n",
       "      <th>Lat</th>\n",
       "      <th>Long</th>\n",
       "      <th>geometry</th>\n",
       "    </tr>\n",
       "  </thead>\n",
       "  <tbody>\n",
       "    <tr>\n",
       "      <th>0</th>\n",
       "      <td>30166</td>\n",
       "      <td>Tamos</td>\n",
       "      <td>Panuco</td>\n",
       "      <td>Veracruz</td>\n",
       "      <td>Operando</td>\n",
       "      <td>22.216111</td>\n",
       "      <td>-97.998611</td>\n",
       "      <td>POINT (-97.99861 22.21611)</td>\n",
       "    </tr>\n",
       "    <tr>\n",
       "      <th>1</th>\n",
       "      <td>28055</td>\n",
       "      <td>Los Tomates</td>\n",
       "      <td>Altamira</td>\n",
       "      <td>Tamaulipas</td>\n",
       "      <td>Operando</td>\n",
       "      <td>22.452778</td>\n",
       "      <td>-98.197222</td>\n",
       "      <td>POINT (-98.19722 22.45278)</td>\n",
       "    </tr>\n",
       "  </tbody>\n",
       "</table>\n",
       "</div>"
      ],
      "text/plain": [
       "   Estacion      Nom_Est       Mun      Estado Situacion        Lat  \\\n",
       "0     30166        Tamos    Panuco    Veracruz  Operando  22.216111   \n",
       "1     28055  Los Tomates  Altamira  Tamaulipas  Operando  22.452778   \n",
       "\n",
       "        Long                    geometry  \n",
       "0 -97.998611  POINT (-97.99861 22.21611)  \n",
       "1 -98.197222  POINT (-98.19722 22.45278)  "
      ]
     },
     "execution_count": 49,
     "metadata": {},
     "output_type": "execute_result"
    }
   ],
   "source": [
    "#Estaciones climatologicas informacion vectoral\n",
    "path_Estaciones3 = input(\"PROPORCIONE LA RUTA DONDE SE ENCUENTRA EL ARCHIVO SHP DE LAS ESTACIONES O PUNTOS:\")\n",
    "path_Estaciones2 = input(\"PROPORCIONE EL NOMBRE DEL SHAPEFILE DE LAS ESTACIONES O PUNTOS:\")\n",
    "path_Estaciones = f\"{path_Estaciones3}\\{path_Estaciones2}.shp\"\n",
    "print(f\"EL SHP SE ENCUENTRA EN: {path_Estaciones}\")\n",
    "Estaciones = gpd.read_file(path_Estaciones)\n",
    "print(\"***LAS ESTACIONES O PUNTOS SON LOS SIGUIENTES: \")\n",
    "Estaciones"
   ]
  },
  {
   "cell_type": "code",
   "execution_count": 50,
   "id": "c1ac78b8-b2f8-4a91-930c-53e1f08628bb",
   "metadata": {},
   "outputs": [
    {
     "name": "stdout",
     "output_type": "stream",
     "text": [
      "***LA LISTA DE COORDENADAS DE LAS ESTACIONES O PUNTOS SON LOS SIGUIENTES: \n"
     ]
    },
    {
     "data": {
      "text/plain": [
       "[(-97.99861111, 22.21611111), (-98.19722222, 22.45277778)]"
      ]
     },
     "execution_count": 50,
     "metadata": {},
     "output_type": "execute_result"
    }
   ],
   "source": [
    "#Lista de Estaciones\n",
    "listEst = [nom for nom in Estaciones.Nom_Est]\n",
    "listEst\n",
    "\n",
    "dfs_por_Estacion = {} \n",
    "\n",
    "for Est in listEst:\n",
    "    dfs_por_Estacion[Est] = pd.DataFrame(columns=['año_mes','PCP_mm'])\n",
    "    \n",
    "coordenadas = [(geom.x, geom.y) for geom in Estaciones.geometry]\n",
    "print(\"***LA LISTA DE COORDENADAS DE LAS ESTACIONES O PUNTOS SON LOS SIGUIENTES: \")\n",
    "coordenadas  "
   ]
  },
  {
   "cell_type": "code",
   "execution_count": 51,
   "id": "b712e4c2-b0c7-4d7a-86f7-51f090686bcf",
   "metadata": {},
   "outputs": [
    {
     "name": "stdin",
     "output_type": "stream",
     "text": [
      "PROPORCIONE LA RUTA DONDE DESEA GUARDAR EL ARCHIVO DE SALIDA:  D:\\UAT_Doc\\Climatologia_Tomates_Tamos\\prueba1\n",
      "PROPORCIONE EL NOMBRE QUE DESEA DARLE AL DOCUMENTO DE SALIDA:  Prueba2\n"
     ]
    }
   ],
   "source": [
    "#Ruta para guardar los archivos de salida\n",
    "path_excel3 = input('PROPORCIONE LA RUTA DONDE DESEA GUARDAR EL ARCHIVO DE SALIDA: ')\n",
    "path_excel2 = input('PROPORCIONE EL NOMBRE QUE DESEA DARLE AL DOCUMENTO DE SALIDA: ')\n",
    "path_excel = f\"{path_excel3}\\{path_excel2}.xlsx\""
   ]
  },
  {
   "cell_type": "raw",
   "id": "139018f1-53be-435b-a572-a95d413d26ec",
   "metadata": {},
   "source": [
    "Explicacion de la funcion para extraer la informacion de cada pixel del raster a la estacion\n",
    "\n",
    "La funcion es: extraer_pcp()\n",
    "\n",
    "       extraer_pcp(list1960to1969,listEst,coordenadas,dfs_por_Estacion,path1960to1969xls):\n",
    "       \n",
    "       Donde:\n",
    "       list1960to1969 = Lista de rasters de donde se extraera la informacion\n",
    "       listEst = Lista de estaciones o puntos\n",
    "       coordenadas = Lista de coordenadas de cada una de las Estaciones o Puntos\n",
    "       dfs_por_Estacion = Diccionario donde se iran guardando todos los df de cada estacion\n",
    "       path1960to1969xls = Ruta donde se guardara el exel que se genera con la informacion\n",
    "       "
   ]
  },
  {
   "cell_type": "code",
   "execution_count": 52,
   "id": "558fbdce-ca3e-4797-a6ab-14aac1a83c7b",
   "metadata": {},
   "outputs": [
    {
     "data": {
      "text/plain": [
       "'***LOS ARCHIVOS SE HAN GUARDADO EXITOSAMENTE***'"
      ]
     },
     "execution_count": 52,
     "metadata": {},
     "output_type": "execute_result"
    }
   ],
   "source": [
    "#Extraccion de informacion-Aplicacion de la función\n",
    "extraer_pcp(listRasters,listEst,coordenadas,dfs_por_Estacion,path_excel)"
   ]
  },
  {
   "cell_type": "markdown",
   "id": "0c7df945-9586-4263-ba24-2f1b99a2e973",
   "metadata": {},
   "source": [
    "# Concatenación de DataFrames"
   ]
  }
 ],
 "metadata": {
  "kernelspec": {
   "display_name": "Python 3 (ipykernel)",
   "language": "python",
   "name": "python3"
  },
  "language_info": {
   "codemirror_mode": {
    "name": "ipython",
    "version": 3
   },
   "file_extension": ".py",
   "mimetype": "text/x-python",
   "name": "python",
   "nbconvert_exporter": "python",
   "pygments_lexer": "ipython3",
   "version": "3.7.16"
  },
  "toc-autonumbering": true,
  "toc-showmarkdowntxt": true
 },
 "nbformat": 4,
 "nbformat_minor": 5
}
