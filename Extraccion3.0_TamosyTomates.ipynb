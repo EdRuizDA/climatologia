{
 "cells": [
  {
   "cell_type": "markdown",
   "id": "bf330b03-135e-4415-8a2a-3902e9e5c48e",
   "metadata": {},
   "source": [
    "# Librerias"
   ]
  },
  {
   "cell_type": "code",
   "execution_count": 2,
   "id": "b8d06711-e2b8-4c31-b89a-46302243aac8",
   "metadata": {},
   "outputs": [],
   "source": [
    "import os\n",
    "import geopandas as gpd\n",
    "import rasterio\n",
    "from rasterio.plot import show\n",
    "import matplotlib.pyplot as plt\n",
    "import pandas as pd\n",
    "import numpy as np"
   ]
  },
  {
   "cell_type": "markdown",
   "id": "37d1a448-475e-44da-a54d-c2786b40e065",
   "metadata": {
    "tags": []
   },
   "source": [
    "# Rasters de PCP"
   ]
  },
  {
   "cell_type": "markdown",
   "id": "4f12c830-60a2-4244-8151-61e7954a4e07",
   "metadata": {},
   "source": [
    "## Rutas de los Datasets de los Rasters"
   ]
  },
  {
   "cell_type": "code",
   "execution_count": 3,
   "id": "04fb0464-7ee2-4c92-b246-90bff8549e2b",
   "metadata": {},
   "outputs": [],
   "source": [
    "path1960to1969 = r\"D:\\UAT_Doc\\Sobre_proyecto_de_investigacion\\worldclim\\1960-1969\"\n",
    "path1970to1979 = r\"D:\\UAT_Doc\\Sobre_proyecto_de_investigacion\\worldclim\\1970-1979\"\n",
    "path1980to1989 = r\"D:\\UAT_Doc\\Sobre_proyecto_de_investigacion\\worldclim\\1980-1989\"\n",
    "path1990to1999 = r\"D:\\UAT_Doc\\Sobre_proyecto_de_investigacion\\worldclim\\1990-1999\"\n",
    "path2000to2009 = r\"D:\\UAT_Doc\\Sobre_proyecto_de_investigacion\\worldclim\\2000-2009\"\n",
    "path2010to2019 = r\"D:\\UAT_Doc\\Sobre_proyecto_de_investigacion\\worldclim\\2010-2019\"\n",
    "path2020to2021 = r\"D:\\UAT_Doc\\Sobre_proyecto_de_investigacion\\worldclim\\2020-2021\"\n"
   ]
  },
  {
   "cell_type": "markdown",
   "id": "2d754552-845a-44c4-adec-cb44e86752f3",
   "metadata": {},
   "source": [
    "## Elaboracion de listas de acceso"
   ]
  },
  {
   "cell_type": "code",
   "execution_count": 4,
   "id": "a1471078-e701-4d02-9c19-783d232a4ca3",
   "metadata": {},
   "outputs": [],
   "source": [
    "list1960to1969 = [os.path.join (path1960to1969, band) for band in os.listdir(path1960to1969) if band.endswith('tif')]\n",
    "list1970to1979 = [os.path.join (path1970to1979, band) for band in os.listdir(path1970to1979) if band.endswith('tif')]\n",
    "list1980to1989 = [os.path.join (path1980to1989, band) for band in os.listdir(path1980to1989) if band.endswith('tif')]\n",
    "list1990to1999 = [os.path.join (path1990to1999, band) for band in os.listdir(path1990to1999) if band.endswith('tif')]\n",
    "list2000to2009 = [os.path.join (path2000to2009, band) for band in os.listdir(path2000to2009) if band.endswith('tif')]\n",
    "list2010to2019 = [os.path.join (path2010to2019, band) for band in os.listdir(path2010to2019) if band.endswith('tif')]\n",
    "list2020to2021 = [os.path.join (path2020to2021, band) for band in os.listdir(path2020to2021) if band.endswith('tif')]\n",
    "#print(list2020to2021)"
   ]
  },
  {
   "cell_type": "markdown",
   "id": "27f97d70-f045-4680-98c7-4c118eb374e2",
   "metadata": {},
   "source": [
    "## Verificar las rutas"
   ]
  },
  {
   "cell_type": "code",
   "execution_count": 5,
   "id": "cc984be2-74f3-492a-9f26-19e65fb46eaa",
   "metadata": {},
   "outputs": [],
   "source": [
    "for raster_path in list1960to1969:\n",
    "    if not os.path.exists(raster_path):\n",
    "        print(f'el archivo {raster_path} no existe.')\n",
    "        raise FileNotFoundError (f'El archivo {raster_path} no existe.')"
   ]
  },
  {
   "cell_type": "code",
   "execution_count": 6,
   "id": "e35b82ae-07fa-4c44-839c-181304bc8bdb",
   "metadata": {},
   "outputs": [],
   "source": [
    "for raster_path in list1970to1979:\n",
    "    if not os.path.exists(raster_path):\n",
    "        print(f'el archivo {raster_path} no existe.')\n",
    "        raise FileNotFoundError (f'El archivo {raster_path} no existe.')"
   ]
  },
  {
   "cell_type": "code",
   "execution_count": 7,
   "id": "b47b75a3-c271-4dd5-b23d-86c149c1e0c9",
   "metadata": {},
   "outputs": [],
   "source": [
    "for raster_path in list1980to1989:\n",
    "    if not os.path.exists(raster_path):\n",
    "        print(f'el archivo {raster_path} no existe.')\n",
    "        raise FileNotFoundError (f'El archivo {raster_path} no existe.')"
   ]
  },
  {
   "cell_type": "code",
   "execution_count": 8,
   "id": "fdad7d3a-ab98-4290-8a9f-288ed4eca9e8",
   "metadata": {},
   "outputs": [],
   "source": [
    "for raster_path in list1990to1999:\n",
    "    if not os.path.exists(raster_path):\n",
    "        print(f'el archivo {raster_path} no existe.')\n",
    "        raise FileNotFoundError (f'El archivo {raster_path} no existe.')"
   ]
  },
  {
   "cell_type": "code",
   "execution_count": 9,
   "id": "387f4e24-4f07-45da-90ba-75d9fe309a37",
   "metadata": {},
   "outputs": [],
   "source": [
    "for raster_path in list2000to2009:\n",
    "    if not os.path.exists(raster_path):\n",
    "        print(f'el archivo {raster_path} no existe.')\n",
    "        raise FileNotFoundError (f'El archivo {raster_path} no existe.')"
   ]
  },
  {
   "cell_type": "code",
   "execution_count": 10,
   "id": "adcdf3c6-3319-4a1a-a8ed-0053ac8d129e",
   "metadata": {},
   "outputs": [],
   "source": [
    "for raster_path in list2010to2019:\n",
    "    if not os.path.exists(raster_path):\n",
    "        print(f'el archivo {raster_path} no existe.')\n",
    "        raise FileNotFoundError (f'El archivo {raster_path} no existe.')"
   ]
  },
  {
   "cell_type": "code",
   "execution_count": 11,
   "id": "a1de9a50-f10c-4e95-87ac-60bb6847c5d0",
   "metadata": {},
   "outputs": [],
   "source": [
    "for raster_path in list2020to2021:\n",
    "    if not os.path.exists(raster_path):\n",
    "        print(f'el archivo {raster_path} no existe.')\n",
    "        raise FileNotFoundError (f'El archivo {raster_path} no existe.')"
   ]
  },
  {
   "cell_type": "markdown",
   "id": "e1ff3d7f-d977-4570-adef-ad006e5da9ff",
   "metadata": {},
   "source": [
    "# Estaciones Shapefile"
   ]
  },
  {
   "cell_type": "code",
   "execution_count": 15,
   "id": "a7a734e2-c813-4cb2-ac8b-7ba67ea4b5df",
   "metadata": {},
   "outputs": [],
   "source": [
    "path_Estaciones = r\"D:\\UAT_Doc\\Climatologia_Tomates_Tamos\\Estaciones.shp\""
   ]
  },
  {
   "cell_type": "code",
   "execution_count": 16,
   "id": "9dd646fb-3d66-487f-8435-d4f77091c9c5",
   "metadata": {},
   "outputs": [
    {
     "data": {
      "text/html": [
       "<div>\n",
       "<style scoped>\n",
       "    .dataframe tbody tr th:only-of-type {\n",
       "        vertical-align: middle;\n",
       "    }\n",
       "\n",
       "    .dataframe tbody tr th {\n",
       "        vertical-align: top;\n",
       "    }\n",
       "\n",
       "    .dataframe thead th {\n",
       "        text-align: right;\n",
       "    }\n",
       "</style>\n",
       "<table border=\"1\" class=\"dataframe\">\n",
       "  <thead>\n",
       "    <tr style=\"text-align: right;\">\n",
       "      <th></th>\n",
       "      <th>Estacion</th>\n",
       "      <th>Nom_Est</th>\n",
       "      <th>Mun</th>\n",
       "      <th>Estado</th>\n",
       "      <th>Situacion</th>\n",
       "      <th>Lat</th>\n",
       "      <th>Long</th>\n",
       "      <th>geometry</th>\n",
       "    </tr>\n",
       "  </thead>\n",
       "  <tbody>\n",
       "    <tr>\n",
       "      <th>0</th>\n",
       "      <td>30166</td>\n",
       "      <td>Tamos</td>\n",
       "      <td>Panuco</td>\n",
       "      <td>Veracruz</td>\n",
       "      <td>Operando</td>\n",
       "      <td>22.216111</td>\n",
       "      <td>-97.998611</td>\n",
       "      <td>POINT (-97.99861 22.21611)</td>\n",
       "    </tr>\n",
       "    <tr>\n",
       "      <th>1</th>\n",
       "      <td>28055</td>\n",
       "      <td>Los Tomates</td>\n",
       "      <td>Altamira</td>\n",
       "      <td>Tamaulipas</td>\n",
       "      <td>Operando</td>\n",
       "      <td>22.452778</td>\n",
       "      <td>-98.197222</td>\n",
       "      <td>POINT (-98.19722 22.45278)</td>\n",
       "    </tr>\n",
       "  </tbody>\n",
       "</table>\n",
       "</div>"
      ],
      "text/plain": [
       "   Estacion      Nom_Est       Mun      Estado Situacion        Lat  \\\n",
       "0     30166        Tamos    Panuco    Veracruz  Operando  22.216111   \n",
       "1     28055  Los Tomates  Altamira  Tamaulipas  Operando  22.452778   \n",
       "\n",
       "        Long                    geometry  \n",
       "0 -97.998611  POINT (-97.99861 22.21611)  \n",
       "1 -98.197222  POINT (-98.19722 22.45278)  "
      ]
     },
     "execution_count": 16,
     "metadata": {},
     "output_type": "execute_result"
    }
   ],
   "source": [
    "Estaciones = gpd.read_file(path_Estaciones)\n",
    "Estaciones"
   ]
  },
  {
   "cell_type": "code",
   "execution_count": 17,
   "id": "c1ac78b8-b2f8-4a91-930c-53e1f08628bb",
   "metadata": {},
   "outputs": [
    {
     "data": {
      "text/plain": [
       "['Tamos', 'Los Tomates']"
      ]
     },
     "execution_count": 17,
     "metadata": {},
     "output_type": "execute_result"
    }
   ],
   "source": [
    "listEst = [nom for nom in Estaciones.Nom_Est]\n",
    "listEst"
   ]
  },
  {
   "cell_type": "code",
   "execution_count": 42,
   "id": "f7147c0d-b5bf-44c2-8eb2-ac0f63001013",
   "metadata": {},
   "outputs": [],
   "source": [
    "dfs_por_Estacion = {} \n",
    "for Est in listEst:\n",
    "    dfs_por_Estacion[Est] = pd.DataFrame(columns=['año_mes','PCP_mm'])"
   ]
  },
  {
   "cell_type": "code",
   "execution_count": 19,
   "id": "56fb06ce-3d79-4c69-8afb-ae55beaf9fdb",
   "metadata": {},
   "outputs": [
    {
     "data": {
      "text/plain": [
       "[(-97.99861111, 22.21611111), (-98.19722222, 22.45277778)]"
      ]
     },
     "execution_count": 19,
     "metadata": {},
     "output_type": "execute_result"
    }
   ],
   "source": [
    "coordenadas = [(geom.x, geom.y) for geom in Estaciones.geometry]\n",
    "coordenadas"
   ]
  },
  {
   "cell_type": "markdown",
   "id": "8079db9a-d476-44d3-ba09-765e7f2e5fdf",
   "metadata": {},
   "source": [
    "# Extraccion de valores"
   ]
  },
  {
   "cell_type": "markdown",
   "id": "8b5c79b9-8bc0-46f1-8562-0be7997a6dc5",
   "metadata": {},
   "source": [
    "## Rutas para guardar los archivos excel"
   ]
  },
  {
   "cell_type": "code",
   "execution_count": 23,
   "id": "cd89c20a-07a5-4424-8fc9-9fdde51e2b2e",
   "metadata": {},
   "outputs": [],
   "source": [
    "path1960to1969xls = r\"D:\\UAT_Doc\\Climatologia_Tomates_Tamos\\xlsx\\PCP_1960_1969.xlsx\"\n",
    "path1970to1979xls = r\"D:\\UAT_Doc\\Climatologia_Tomates_Tamos\\xlsx\\PCP_1970_1979.xlsx\"\n",
    "path1980to1989xls = r\"D:\\UAT_Doc\\Climatologia_Tomates_Tamos\\xlsx\\PCP_1980_1989.xlsx\"\n",
    "path1990to1999xls = r\"D:\\UAT_Doc\\Climatologia_Tomates_Tamos\\xlsx\\PCP_1990_1999.xlsx\"\n",
    "path2000to2009xls = r\"D:\\UAT_Doc\\Climatologia_Tomates_Tamos\\xlsx\\PCP_2000_2009.xlsx\"\n",
    "path2010to2019xls = r\"D:\\UAT_Doc\\Climatologia_Tomates_Tamos\\xlsx\\PCP_2010_2019.xlsx\"\n",
    "path2020to2021xls = r\"D:\\UAT_Doc\\Climatologia_Tomates_Tamos\\xlsx\\PCP_2020_2021.xlsx\""
   ]
  },
  {
   "cell_type": "markdown",
   "id": "f60ad36e-a707-4966-96d8-a8a1b6e4bae6",
   "metadata": {
    "tags": []
   },
   "source": [
    "## Extraccion de valores por estacion"
   ]
  },
  {
   "cell_type": "markdown",
   "id": "2d86ebf0-f2d9-4178-8976-6f301ba869fc",
   "metadata": {
    "tags": []
   },
   "source": [
    "### Serie 1960-1969"
   ]
  },
  {
   "cell_type": "code",
   "execution_count": 43,
   "id": "65a091eb-1100-44ba-93fe-13cfd2077ad8",
   "metadata": {},
   "outputs": [],
   "source": [
    "for raster_path in list1960to1969:\n",
    "    with rasterio.open(raster_path) as raster:\n",
    "        raster_name2 = os.path.splitext(os.path.basename(raster_path))[0]\n",
    "        raster_name = raster_name2.split('_')[-1]\n",
    "    \n",
    "        for Est, coordenada in zip(listEst, coordenadas):\n",
    "            PCP = raster.sample([coordenada]) #Obteniendo el generador\n",
    "            pcp = list(PCP) #Convirtiendo el generador en lista\n",
    "            \n",
    "            if pcp and pcp[0]:\n",
    "                dfs_por_Estacion[Est] = dfs_por_Estacion[Est].append({'año_mes':raster_name,'PCP_mm':pcp[0][0]}, ignore_index=True)\n",
    "          \n",
    "    \n",
    "    \n",
    "with pd.ExcelWriter(path1960to1969xls) as writer:\n",
    "    for Est, df_Est in dfs_por_Estacion.items():\n",
    "        df_Est.to_excel(writer, sheet_name=Est, index=False)\n",
    "        "
   ]
  },
  {
   "cell_type": "code",
   "execution_count": 44,
   "id": "e51552a3-9add-4e06-a12a-66c6a8e67d2e",
   "metadata": {},
   "outputs": [],
   "source": [
    "dfs_por_Estacion ={}\n",
    "for Est in listEst:\n",
    "    dfs_por_Estacion[Est] = pd.DataFrame(columns=['año_mes','PCP_mm'])"
   ]
  },
  {
   "cell_type": "markdown",
   "id": "5bf49c97-01aa-4350-9fff-3bc5b2c530a7",
   "metadata": {
    "tags": []
   },
   "source": [
    "### Serie 1970-1979"
   ]
  },
  {
   "cell_type": "code",
   "execution_count": 45,
   "id": "c87bdff5-4a54-4224-8791-cd554303cfbf",
   "metadata": {},
   "outputs": [],
   "source": [
    "for raster_path in list1970to1979:\n",
    "    with rasterio.open(raster_path) as raster:\n",
    "        raster_name2 = os.path.splitext(os.path.basename(raster_path))[0]\n",
    "        raster_name = raster_name2.split('_')[-1]\n",
    "    \n",
    "        for Est, coordenada in zip(listEst, coordenadas):\n",
    "            PCP = raster.sample([coordenada]) #Obteniendo el generador\n",
    "            pcp = list(PCP) #Convirtiendo el generador en lista\n",
    "            \n",
    "            if pcp and pcp[0]:\n",
    "                dfs_por_Estacion[Est] = dfs_por_Estacion[Est].append({'año_mes':raster_name,'PCP_mm':pcp[0][0]}, ignore_index=True)\n",
    "          \n",
    "    \n",
    "    \n",
    "with pd.ExcelWriter(path1970to1979xls) as writer:\n",
    "    for Est, df_Est in dfs_por_Estacion.items():\n",
    "        df_Est.to_excel(writer, sheet_name=Est, index=False)\n",
    "        "
   ]
  },
  {
   "cell_type": "code",
   "execution_count": 46,
   "id": "12d6cad8-95c6-4e72-a492-f798189bcfd2",
   "metadata": {},
   "outputs": [],
   "source": [
    "dfs_por_Estacion ={}\n",
    "for Est in listEst:\n",
    "    dfs_por_Estacion[Est] = pd.DataFrame(columns=['año_mes','PCP_mm'])"
   ]
  },
  {
   "cell_type": "markdown",
   "id": "998fccf0-a037-4fbe-9201-ab0eb23052a2",
   "metadata": {
    "tags": []
   },
   "source": [
    "### Serie 1980-1989"
   ]
  },
  {
   "cell_type": "code",
   "execution_count": 47,
   "id": "fde53012-8f66-4460-b5ce-f1660d189194",
   "metadata": {},
   "outputs": [],
   "source": [
    "for raster_path in list1980to1989:\n",
    "    with rasterio.open(raster_path) as raster:\n",
    "        raster_name2 = os.path.splitext(os.path.basename(raster_path))[0]\n",
    "        raster_name = raster_name2.split('_')[-1]\n",
    "    \n",
    "        for Est, coordenada in zip(listEst, coordenadas):\n",
    "            PCP = raster.sample([coordenada]) #Obteniendo el generador\n",
    "            pcp = list(PCP) #Convirtiendo el generador en lista\n",
    "            \n",
    "            if pcp and pcp[0]:\n",
    "                dfs_por_Estacion[Est] = dfs_por_Estacion[Est].append({'año_mes':raster_name,'PCP_mm':pcp[0][0]}, ignore_index=True)\n",
    "          \n",
    "    \n",
    "    \n",
    "with pd.ExcelWriter(path1980to1989xls) as writer:\n",
    "    for Est, df_Est in dfs_por_Estacion.items():\n",
    "        df_Est.to_excel(writer, sheet_name=Est, index=False)\n",
    "        "
   ]
  },
  {
   "cell_type": "code",
   "execution_count": 48,
   "id": "828e1a96-f234-462a-a6bb-4a647d08c9ae",
   "metadata": {},
   "outputs": [],
   "source": [
    "dfs_por_Estacion ={}\n",
    "for Est in listEst:\n",
    "    dfs_por_Estacion[Est] = pd.DataFrame(columns=['año_mes','PCP_mm'])"
   ]
  },
  {
   "cell_type": "markdown",
   "id": "337d59e0-bb6d-42ea-923a-d7b1ac099872",
   "metadata": {
    "tags": []
   },
   "source": [
    "### Serie 1990-1999"
   ]
  },
  {
   "cell_type": "code",
   "execution_count": 49,
   "id": "621afd1d-5e05-484a-9067-96a556982a63",
   "metadata": {},
   "outputs": [],
   "source": [
    "for raster_path in list1990to1999:\n",
    "    with rasterio.open(raster_path) as raster:\n",
    "        raster_name2 = os.path.splitext(os.path.basename(raster_path))[0]\n",
    "        raster_name = raster_name2.split('_')[-1]\n",
    "    \n",
    "        for Est, coordenada in zip(listEst, coordenadas):\n",
    "            PCP = raster.sample([coordenada]) #Obteniendo el generador\n",
    "            pcp = list(PCP) #Convirtiendo el generador en lista\n",
    "            \n",
    "            if pcp and pcp[0]:\n",
    "                dfs_por_Estacion[Est] = dfs_por_Estacion[Est].append({'año_mes':raster_name,'PCP_mm':pcp[0][0]}, ignore_index=True)\n",
    "          \n",
    "    \n",
    "    \n",
    "with pd.ExcelWriter(path1990to1999xls) as writer:\n",
    "    for Est, df_Est in dfs_por_Estacion.items():\n",
    "        df_Est.to_excel(writer, sheet_name=Est, index=False)\n",
    "        "
   ]
  },
  {
   "cell_type": "code",
   "execution_count": 50,
   "id": "33e7cdbd-3985-4e1f-b0fb-24537cf00cce",
   "metadata": {},
   "outputs": [],
   "source": [
    "dfs_por_Estacion ={}\n",
    "for Est in listEst:\n",
    "    dfs_por_Estacion[Est] = pd.DataFrame(columns=['año_mes','PCP_mm'])"
   ]
  },
  {
   "cell_type": "markdown",
   "id": "2ec067c8-b1cf-49b2-bf0e-7cb2cd845b88",
   "metadata": {
    "tags": []
   },
   "source": [
    "### Serie 2000-2009"
   ]
  },
  {
   "cell_type": "code",
   "execution_count": 51,
   "id": "ba0f01ef-5098-4b3b-bae4-ede97a5902ee",
   "metadata": {},
   "outputs": [],
   "source": [
    "for raster_path in list2000to2009:\n",
    "    with rasterio.open(raster_path) as raster:\n",
    "        raster_name2 = os.path.splitext(os.path.basename(raster_path))[0]\n",
    "        raster_name = raster_name2.split('_')[-1]\n",
    "    \n",
    "        for Est, coordenada in zip(listEst, coordenadas):\n",
    "            PCP = raster.sample([coordenada]) #Obteniendo el generador\n",
    "            pcp = list(PCP) #Convirtiendo el generador en lista\n",
    "            \n",
    "            if pcp and pcp[0]:\n",
    "                dfs_por_Estacion[Est] = dfs_por_Estacion[Est].append({'año_mes':raster_name,'PCP_mm':pcp[0][0]}, ignore_index=True)\n",
    "          \n",
    "    \n",
    "    \n",
    "with pd.ExcelWriter(path2000to2009xls) as writer:\n",
    "    for Est, df_Est in dfs_por_Estacion.items():\n",
    "        df_Est.to_excel(writer, sheet_name=Est, index=False)\n",
    "        "
   ]
  },
  {
   "cell_type": "code",
   "execution_count": 52,
   "id": "bb232c7a-888b-4e00-9329-c2f0ff5aec7e",
   "metadata": {},
   "outputs": [],
   "source": [
    "dfs_por_Estacion ={}\n",
    "for Est in listEst:\n",
    "    dfs_por_Estacion[Est] = pd.DataFrame(columns=['año_mes','PCP_mm'])"
   ]
  },
  {
   "cell_type": "markdown",
   "id": "e4f8e411-f103-481b-b596-bb6c9516dbef",
   "metadata": {
    "tags": []
   },
   "source": [
    "### Serie 2010-2019"
   ]
  },
  {
   "cell_type": "code",
   "execution_count": 53,
   "id": "7ee66834-0405-4811-8690-1775f2a77cda",
   "metadata": {},
   "outputs": [],
   "source": [
    "for raster_path in list2010to2019:\n",
    "    with rasterio.open(raster_path) as raster:\n",
    "        raster_name2 = os.path.splitext(os.path.basename(raster_path))[0]\n",
    "        raster_name = raster_name2.split('_')[-1]\n",
    "    \n",
    "        for Est, coordenada in zip(listEst, coordenadas):\n",
    "            PCP = raster.sample([coordenada]) #Obteniendo el generador\n",
    "            pcp = list(PCP) #Convirtiendo el generador en lista\n",
    "            \n",
    "            if pcp and pcp[0]:\n",
    "                dfs_por_Estacion[Est] = dfs_por_Estacion[Est].append({'año_mes':raster_name,'PCP_mm':pcp[0][0]}, ignore_index=True)\n",
    "          \n",
    "    \n",
    "    \n",
    "with pd.ExcelWriter(path2010to2019xls) as writer:\n",
    "    for Est, df_Est in dfs_por_Estacion.items():\n",
    "        df_Est.to_excel(writer, sheet_name=Est, index=False)\n",
    "        "
   ]
  },
  {
   "cell_type": "code",
   "execution_count": 54,
   "id": "8973bd01-b745-4e76-8020-d0d4154b3727",
   "metadata": {},
   "outputs": [],
   "source": [
    "dfs_por_Estacion ={}\n",
    "for Est in listEst:\n",
    "    dfs_por_Estacion[Est] = pd.DataFrame(columns=['año_mes','PCP_mm'])"
   ]
  },
  {
   "cell_type": "markdown",
   "id": "eeec88a8-44f1-4b41-a645-3633f5721a5e",
   "metadata": {
    "tags": []
   },
   "source": [
    "### Serie 2020-2021"
   ]
  },
  {
   "cell_type": "code",
   "execution_count": 55,
   "id": "e4c797bd-771e-47d2-8a6a-4b4ed5324e0b",
   "metadata": {},
   "outputs": [],
   "source": [
    "for raster_path in list2020to2021:\n",
    "    with rasterio.open(raster_path) as raster:\n",
    "        raster_name2 = os.path.splitext(os.path.basename(raster_path))[0]\n",
    "        raster_name = raster_name2.split('_')[-1]\n",
    "    \n",
    "        for Est, coordenada in zip(listEst, coordenadas):\n",
    "            PCP = raster.sample([coordenada]) #Obteniendo el generador\n",
    "            pcp = list(PCP) #Convirtiendo el generador en lista\n",
    "            \n",
    "            if pcp and pcp[0]:\n",
    "                dfs_por_Estacion[Est] = dfs_por_Estacion[Est].append({'año_mes':raster_name,'PCP_mm':pcp[0][0]}, ignore_index=True)\n",
    "          \n",
    "    \n",
    "    \n",
    "with pd.ExcelWriter(path2020to2021xls) as writer:\n",
    "    for Est, df_Est in dfs_por_Estacion.items():\n",
    "        df_Est.to_excel(writer, sheet_name=Est, index=False)\n",
    "        "
   ]
  },
  {
   "cell_type": "code",
   "execution_count": null,
   "id": "55b310f6-d1da-4477-bec4-d32e7d450cb4",
   "metadata": {},
   "outputs": [],
   "source": [
    "dfs_por_Estacion ={}\n",
    "for Est in listEst:\n",
    "    dfs_por_Estacion[Est] = pd.DataFrame(columns=['año_mes','PCP_mm'])"
   ]
  },
  {
   "cell_type": "markdown",
   "id": "71032161-7462-466f-adb5-ab54e24f679a",
   "metadata": {},
   "source": [
    "# Funcion para recortes"
   ]
  },
  {
   "cell_type": "code",
   "execution_count": 55,
   "id": "3a5eb5c3-e3d3-42f2-be5c-65e61249abac",
   "metadata": {},
   "outputs": [],
   "source": [
    "def extraer_pcp(list1960to1969,listEst,coordenadas, ):\n",
    "    for raster_path in list1960to1969:\n",
    "        with rasterio.open(raster_path) as raster:\n",
    "            raster_name2 = os.path.splitext(os.path.basename(raster_path))[0]\n",
    "            raster_name = raster_name2.split('_')[-1]\n",
    "            \n",
    "            for Est, coordenada in zip(listEst, coordenadas):\n",
    "                PCP = raster.sample([coordenada]) #Obteniendo el generador\n",
    "                pcp = list(PCP) #Convirtiendo el generador en lista\n",
    "                \n",
    "                if pcp and pcp[0]:\n",
    "                    dfs_por_Estacion[Est] = dfs_por_Estacion[Est].append({'año_mes':raster_name,'PCP_mm':pcp[0][0]}, ignore_index=True)\n",
    "                    \n",
    "                    \n",
    "    with pd.ExcelWriter(path2020to2021xls) as writer:\n",
    "        for Est, df_Est in dfs_por_Estacion.items():\n",
    "            df_Est.to_excel(writer, sheet_name=Est, index=False)\n",
    "        "
   ]
  },
  {
   "cell_type": "code",
   "execution_count": null,
   "id": "558fbdce-ca3e-4797-a6ab-14aac1a83c7b",
   "metadata": {},
   "outputs": [],
   "source": []
  }
 ],
 "metadata": {
  "kernelspec": {
   "display_name": "Python 3 (ipykernel)",
   "language": "python",
   "name": "python3"
  },
  "language_info": {
   "codemirror_mode": {
    "name": "ipython",
    "version": 3
   },
   "file_extension": ".py",
   "mimetype": "text/x-python",
   "name": "python",
   "nbconvert_exporter": "python",
   "pygments_lexer": "ipython3",
   "version": "3.7.16"
  },
  "toc-autonumbering": true,
  "toc-showmarkdowntxt": true
 },
 "nbformat": 4,
 "nbformat_minor": 5
}
