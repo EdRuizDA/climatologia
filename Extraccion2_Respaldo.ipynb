{
 "cells": [
  {
   "cell_type": "markdown",
   "id": "bf330b03-135e-4415-8a2a-3902e9e5c48e",
   "metadata": {},
   "source": [
    "# Librerias"
   ]
  },
  {
   "cell_type": "code",
   "execution_count": 51,
   "id": "b8d06711-e2b8-4c31-b89a-46302243aac8",
   "metadata": {},
   "outputs": [],
   "source": [
    "import os\n",
    "import geopandas as gpd\n",
    "import rasterio\n",
    "from rasterio.plot import show\n",
    "import matplotlib.pyplot as plt\n",
    "import pandas as pd\n",
    "import numpy as np"
   ]
  },
  {
   "cell_type": "markdown",
   "id": "51bac0c4-2d91-4bf9-bd25-a54e71f7a344",
   "metadata": {},
   "source": [
    "# Shapefile de estaciones climatologicas"
   ]
  },
  {
   "cell_type": "code",
   "execution_count": 52,
   "id": "a7a734e2-c813-4cb2-ac8b-7ba67ea4b5df",
   "metadata": {},
   "outputs": [],
   "source": [
    "path_Estaciones = r\"D:\\UAT_Doc\\Climatologia_Tomates_Tamos\\Estaciones.shp\""
   ]
  },
  {
   "cell_type": "markdown",
   "id": "37d1a448-475e-44da-a54d-c2786b40e065",
   "metadata": {
    "tags": []
   },
   "source": [
    "# Rasters de PCP"
   ]
  },
  {
   "cell_type": "code",
   "execution_count": 53,
   "id": "04fb0464-7ee2-4c92-b246-90bff8549e2b",
   "metadata": {},
   "outputs": [],
   "source": [
    "path1960to1969 = r\"D:\\UAT_Doc\\Sobre_proyecto_de_investigacion\\worldclim\\1960-1969\""
   ]
  },
  {
   "cell_type": "code",
   "execution_count": 54,
   "id": "a1471078-e701-4d02-9c19-783d232a4ca3",
   "metadata": {},
   "outputs": [
    {
     "name": "stdout",
     "output_type": "stream",
     "text": [
      "['D:\\\\UAT_Doc\\\\Sobre_proyecto_de_investigacion\\\\worldclim\\\\1960-1969\\\\wc2.1_2.5m_prec_1960-01.tif', 'D:\\\\UAT_Doc\\\\Sobre_proyecto_de_investigacion\\\\worldclim\\\\1960-1969\\\\wc2.1_2.5m_prec_1960-02.tif', 'D:\\\\UAT_Doc\\\\Sobre_proyecto_de_investigacion\\\\worldclim\\\\1960-1969\\\\wc2.1_2.5m_prec_1960-03.tif', 'D:\\\\UAT_Doc\\\\Sobre_proyecto_de_investigacion\\\\worldclim\\\\1960-1969\\\\wc2.1_2.5m_prec_1960-04.tif', 'D:\\\\UAT_Doc\\\\Sobre_proyecto_de_investigacion\\\\worldclim\\\\1960-1969\\\\wc2.1_2.5m_prec_1960-05.tif', 'D:\\\\UAT_Doc\\\\Sobre_proyecto_de_investigacion\\\\worldclim\\\\1960-1969\\\\wc2.1_2.5m_prec_1960-06.tif', 'D:\\\\UAT_Doc\\\\Sobre_proyecto_de_investigacion\\\\worldclim\\\\1960-1969\\\\wc2.1_2.5m_prec_1960-07.tif', 'D:\\\\UAT_Doc\\\\Sobre_proyecto_de_investigacion\\\\worldclim\\\\1960-1969\\\\wc2.1_2.5m_prec_1960-08.tif', 'D:\\\\UAT_Doc\\\\Sobre_proyecto_de_investigacion\\\\worldclim\\\\1960-1969\\\\wc2.1_2.5m_prec_1960-09.tif', 'D:\\\\UAT_Doc\\\\Sobre_proyecto_de_investigacion\\\\worldclim\\\\1960-1969\\\\wc2.1_2.5m_prec_1960-10.tif', 'D:\\\\UAT_Doc\\\\Sobre_proyecto_de_investigacion\\\\worldclim\\\\1960-1969\\\\wc2.1_2.5m_prec_1960-11.tif', 'D:\\\\UAT_Doc\\\\Sobre_proyecto_de_investigacion\\\\worldclim\\\\1960-1969\\\\wc2.1_2.5m_prec_1960-12.tif', 'D:\\\\UAT_Doc\\\\Sobre_proyecto_de_investigacion\\\\worldclim\\\\1960-1969\\\\wc2.1_2.5m_prec_1961-01.tif', 'D:\\\\UAT_Doc\\\\Sobre_proyecto_de_investigacion\\\\worldclim\\\\1960-1969\\\\wc2.1_2.5m_prec_1961-02.tif', 'D:\\\\UAT_Doc\\\\Sobre_proyecto_de_investigacion\\\\worldclim\\\\1960-1969\\\\wc2.1_2.5m_prec_1961-03.tif', 'D:\\\\UAT_Doc\\\\Sobre_proyecto_de_investigacion\\\\worldclim\\\\1960-1969\\\\wc2.1_2.5m_prec_1961-04.tif', 'D:\\\\UAT_Doc\\\\Sobre_proyecto_de_investigacion\\\\worldclim\\\\1960-1969\\\\wc2.1_2.5m_prec_1961-05.tif', 'D:\\\\UAT_Doc\\\\Sobre_proyecto_de_investigacion\\\\worldclim\\\\1960-1969\\\\wc2.1_2.5m_prec_1961-06.tif', 'D:\\\\UAT_Doc\\\\Sobre_proyecto_de_investigacion\\\\worldclim\\\\1960-1969\\\\wc2.1_2.5m_prec_1961-07.tif', 'D:\\\\UAT_Doc\\\\Sobre_proyecto_de_investigacion\\\\worldclim\\\\1960-1969\\\\wc2.1_2.5m_prec_1961-08.tif', 'D:\\\\UAT_Doc\\\\Sobre_proyecto_de_investigacion\\\\worldclim\\\\1960-1969\\\\wc2.1_2.5m_prec_1961-09.tif', 'D:\\\\UAT_Doc\\\\Sobre_proyecto_de_investigacion\\\\worldclim\\\\1960-1969\\\\wc2.1_2.5m_prec_1961-10.tif', 'D:\\\\UAT_Doc\\\\Sobre_proyecto_de_investigacion\\\\worldclim\\\\1960-1969\\\\wc2.1_2.5m_prec_1961-11.tif', 'D:\\\\UAT_Doc\\\\Sobre_proyecto_de_investigacion\\\\worldclim\\\\1960-1969\\\\wc2.1_2.5m_prec_1961-12.tif', 'D:\\\\UAT_Doc\\\\Sobre_proyecto_de_investigacion\\\\worldclim\\\\1960-1969\\\\wc2.1_2.5m_prec_1962-01.tif', 'D:\\\\UAT_Doc\\\\Sobre_proyecto_de_investigacion\\\\worldclim\\\\1960-1969\\\\wc2.1_2.5m_prec_1962-02.tif', 'D:\\\\UAT_Doc\\\\Sobre_proyecto_de_investigacion\\\\worldclim\\\\1960-1969\\\\wc2.1_2.5m_prec_1962-03.tif', 'D:\\\\UAT_Doc\\\\Sobre_proyecto_de_investigacion\\\\worldclim\\\\1960-1969\\\\wc2.1_2.5m_prec_1962-04.tif', 'D:\\\\UAT_Doc\\\\Sobre_proyecto_de_investigacion\\\\worldclim\\\\1960-1969\\\\wc2.1_2.5m_prec_1962-05.tif', 'D:\\\\UAT_Doc\\\\Sobre_proyecto_de_investigacion\\\\worldclim\\\\1960-1969\\\\wc2.1_2.5m_prec_1962-06.tif', 'D:\\\\UAT_Doc\\\\Sobre_proyecto_de_investigacion\\\\worldclim\\\\1960-1969\\\\wc2.1_2.5m_prec_1962-07.tif', 'D:\\\\UAT_Doc\\\\Sobre_proyecto_de_investigacion\\\\worldclim\\\\1960-1969\\\\wc2.1_2.5m_prec_1962-08.tif', 'D:\\\\UAT_Doc\\\\Sobre_proyecto_de_investigacion\\\\worldclim\\\\1960-1969\\\\wc2.1_2.5m_prec_1962-09.tif', 'D:\\\\UAT_Doc\\\\Sobre_proyecto_de_investigacion\\\\worldclim\\\\1960-1969\\\\wc2.1_2.5m_prec_1962-10.tif', 'D:\\\\UAT_Doc\\\\Sobre_proyecto_de_investigacion\\\\worldclim\\\\1960-1969\\\\wc2.1_2.5m_prec_1962-11.tif', 'D:\\\\UAT_Doc\\\\Sobre_proyecto_de_investigacion\\\\worldclim\\\\1960-1969\\\\wc2.1_2.5m_prec_1962-12.tif', 'D:\\\\UAT_Doc\\\\Sobre_proyecto_de_investigacion\\\\worldclim\\\\1960-1969\\\\wc2.1_2.5m_prec_1963-01.tif', 'D:\\\\UAT_Doc\\\\Sobre_proyecto_de_investigacion\\\\worldclim\\\\1960-1969\\\\wc2.1_2.5m_prec_1963-02.tif', 'D:\\\\UAT_Doc\\\\Sobre_proyecto_de_investigacion\\\\worldclim\\\\1960-1969\\\\wc2.1_2.5m_prec_1963-03.tif', 'D:\\\\UAT_Doc\\\\Sobre_proyecto_de_investigacion\\\\worldclim\\\\1960-1969\\\\wc2.1_2.5m_prec_1963-04.tif', 'D:\\\\UAT_Doc\\\\Sobre_proyecto_de_investigacion\\\\worldclim\\\\1960-1969\\\\wc2.1_2.5m_prec_1963-05.tif', 'D:\\\\UAT_Doc\\\\Sobre_proyecto_de_investigacion\\\\worldclim\\\\1960-1969\\\\wc2.1_2.5m_prec_1963-06.tif', 'D:\\\\UAT_Doc\\\\Sobre_proyecto_de_investigacion\\\\worldclim\\\\1960-1969\\\\wc2.1_2.5m_prec_1963-07.tif', 'D:\\\\UAT_Doc\\\\Sobre_proyecto_de_investigacion\\\\worldclim\\\\1960-1969\\\\wc2.1_2.5m_prec_1963-08.tif', 'D:\\\\UAT_Doc\\\\Sobre_proyecto_de_investigacion\\\\worldclim\\\\1960-1969\\\\wc2.1_2.5m_prec_1963-09.tif', 'D:\\\\UAT_Doc\\\\Sobre_proyecto_de_investigacion\\\\worldclim\\\\1960-1969\\\\wc2.1_2.5m_prec_1963-10.tif', 'D:\\\\UAT_Doc\\\\Sobre_proyecto_de_investigacion\\\\worldclim\\\\1960-1969\\\\wc2.1_2.5m_prec_1963-11.tif', 'D:\\\\UAT_Doc\\\\Sobre_proyecto_de_investigacion\\\\worldclim\\\\1960-1969\\\\wc2.1_2.5m_prec_1963-12.tif', 'D:\\\\UAT_Doc\\\\Sobre_proyecto_de_investigacion\\\\worldclim\\\\1960-1969\\\\wc2.1_2.5m_prec_1964-01.tif', 'D:\\\\UAT_Doc\\\\Sobre_proyecto_de_investigacion\\\\worldclim\\\\1960-1969\\\\wc2.1_2.5m_prec_1964-02.tif', 'D:\\\\UAT_Doc\\\\Sobre_proyecto_de_investigacion\\\\worldclim\\\\1960-1969\\\\wc2.1_2.5m_prec_1964-03.tif', 'D:\\\\UAT_Doc\\\\Sobre_proyecto_de_investigacion\\\\worldclim\\\\1960-1969\\\\wc2.1_2.5m_prec_1964-04.tif', 'D:\\\\UAT_Doc\\\\Sobre_proyecto_de_investigacion\\\\worldclim\\\\1960-1969\\\\wc2.1_2.5m_prec_1964-05.tif', 'D:\\\\UAT_Doc\\\\Sobre_proyecto_de_investigacion\\\\worldclim\\\\1960-1969\\\\wc2.1_2.5m_prec_1964-06.tif', 'D:\\\\UAT_Doc\\\\Sobre_proyecto_de_investigacion\\\\worldclim\\\\1960-1969\\\\wc2.1_2.5m_prec_1964-07.tif', 'D:\\\\UAT_Doc\\\\Sobre_proyecto_de_investigacion\\\\worldclim\\\\1960-1969\\\\wc2.1_2.5m_prec_1964-08.tif', 'D:\\\\UAT_Doc\\\\Sobre_proyecto_de_investigacion\\\\worldclim\\\\1960-1969\\\\wc2.1_2.5m_prec_1964-09.tif', 'D:\\\\UAT_Doc\\\\Sobre_proyecto_de_investigacion\\\\worldclim\\\\1960-1969\\\\wc2.1_2.5m_prec_1964-10.tif', 'D:\\\\UAT_Doc\\\\Sobre_proyecto_de_investigacion\\\\worldclim\\\\1960-1969\\\\wc2.1_2.5m_prec_1964-11.tif', 'D:\\\\UAT_Doc\\\\Sobre_proyecto_de_investigacion\\\\worldclim\\\\1960-1969\\\\wc2.1_2.5m_prec_1964-12.tif', 'D:\\\\UAT_Doc\\\\Sobre_proyecto_de_investigacion\\\\worldclim\\\\1960-1969\\\\wc2.1_2.5m_prec_1965-01.tif', 'D:\\\\UAT_Doc\\\\Sobre_proyecto_de_investigacion\\\\worldclim\\\\1960-1969\\\\wc2.1_2.5m_prec_1965-02.tif', 'D:\\\\UAT_Doc\\\\Sobre_proyecto_de_investigacion\\\\worldclim\\\\1960-1969\\\\wc2.1_2.5m_prec_1965-03.tif', 'D:\\\\UAT_Doc\\\\Sobre_proyecto_de_investigacion\\\\worldclim\\\\1960-1969\\\\wc2.1_2.5m_prec_1965-04.tif', 'D:\\\\UAT_Doc\\\\Sobre_proyecto_de_investigacion\\\\worldclim\\\\1960-1969\\\\wc2.1_2.5m_prec_1965-05.tif', 'D:\\\\UAT_Doc\\\\Sobre_proyecto_de_investigacion\\\\worldclim\\\\1960-1969\\\\wc2.1_2.5m_prec_1965-06.tif', 'D:\\\\UAT_Doc\\\\Sobre_proyecto_de_investigacion\\\\worldclim\\\\1960-1969\\\\wc2.1_2.5m_prec_1965-07.tif', 'D:\\\\UAT_Doc\\\\Sobre_proyecto_de_investigacion\\\\worldclim\\\\1960-1969\\\\wc2.1_2.5m_prec_1965-08.tif', 'D:\\\\UAT_Doc\\\\Sobre_proyecto_de_investigacion\\\\worldclim\\\\1960-1969\\\\wc2.1_2.5m_prec_1965-09.tif', 'D:\\\\UAT_Doc\\\\Sobre_proyecto_de_investigacion\\\\worldclim\\\\1960-1969\\\\wc2.1_2.5m_prec_1965-10.tif', 'D:\\\\UAT_Doc\\\\Sobre_proyecto_de_investigacion\\\\worldclim\\\\1960-1969\\\\wc2.1_2.5m_prec_1965-11.tif', 'D:\\\\UAT_Doc\\\\Sobre_proyecto_de_investigacion\\\\worldclim\\\\1960-1969\\\\wc2.1_2.5m_prec_1965-12.tif', 'D:\\\\UAT_Doc\\\\Sobre_proyecto_de_investigacion\\\\worldclim\\\\1960-1969\\\\wc2.1_2.5m_prec_1966-01.tif', 'D:\\\\UAT_Doc\\\\Sobre_proyecto_de_investigacion\\\\worldclim\\\\1960-1969\\\\wc2.1_2.5m_prec_1966-02.tif', 'D:\\\\UAT_Doc\\\\Sobre_proyecto_de_investigacion\\\\worldclim\\\\1960-1969\\\\wc2.1_2.5m_prec_1966-03.tif', 'D:\\\\UAT_Doc\\\\Sobre_proyecto_de_investigacion\\\\worldclim\\\\1960-1969\\\\wc2.1_2.5m_prec_1966-04.tif', 'D:\\\\UAT_Doc\\\\Sobre_proyecto_de_investigacion\\\\worldclim\\\\1960-1969\\\\wc2.1_2.5m_prec_1966-05.tif', 'D:\\\\UAT_Doc\\\\Sobre_proyecto_de_investigacion\\\\worldclim\\\\1960-1969\\\\wc2.1_2.5m_prec_1966-06.tif', 'D:\\\\UAT_Doc\\\\Sobre_proyecto_de_investigacion\\\\worldclim\\\\1960-1969\\\\wc2.1_2.5m_prec_1966-07.tif', 'D:\\\\UAT_Doc\\\\Sobre_proyecto_de_investigacion\\\\worldclim\\\\1960-1969\\\\wc2.1_2.5m_prec_1966-08.tif', 'D:\\\\UAT_Doc\\\\Sobre_proyecto_de_investigacion\\\\worldclim\\\\1960-1969\\\\wc2.1_2.5m_prec_1966-09.tif', 'D:\\\\UAT_Doc\\\\Sobre_proyecto_de_investigacion\\\\worldclim\\\\1960-1969\\\\wc2.1_2.5m_prec_1966-10.tif', 'D:\\\\UAT_Doc\\\\Sobre_proyecto_de_investigacion\\\\worldclim\\\\1960-1969\\\\wc2.1_2.5m_prec_1966-11.tif', 'D:\\\\UAT_Doc\\\\Sobre_proyecto_de_investigacion\\\\worldclim\\\\1960-1969\\\\wc2.1_2.5m_prec_1966-12.tif', 'D:\\\\UAT_Doc\\\\Sobre_proyecto_de_investigacion\\\\worldclim\\\\1960-1969\\\\wc2.1_2.5m_prec_1967-01.tif', 'D:\\\\UAT_Doc\\\\Sobre_proyecto_de_investigacion\\\\worldclim\\\\1960-1969\\\\wc2.1_2.5m_prec_1967-02.tif', 'D:\\\\UAT_Doc\\\\Sobre_proyecto_de_investigacion\\\\worldclim\\\\1960-1969\\\\wc2.1_2.5m_prec_1967-03.tif', 'D:\\\\UAT_Doc\\\\Sobre_proyecto_de_investigacion\\\\worldclim\\\\1960-1969\\\\wc2.1_2.5m_prec_1967-04.tif', 'D:\\\\UAT_Doc\\\\Sobre_proyecto_de_investigacion\\\\worldclim\\\\1960-1969\\\\wc2.1_2.5m_prec_1967-05.tif', 'D:\\\\UAT_Doc\\\\Sobre_proyecto_de_investigacion\\\\worldclim\\\\1960-1969\\\\wc2.1_2.5m_prec_1967-06.tif', 'D:\\\\UAT_Doc\\\\Sobre_proyecto_de_investigacion\\\\worldclim\\\\1960-1969\\\\wc2.1_2.5m_prec_1967-07.tif', 'D:\\\\UAT_Doc\\\\Sobre_proyecto_de_investigacion\\\\worldclim\\\\1960-1969\\\\wc2.1_2.5m_prec_1967-08.tif', 'D:\\\\UAT_Doc\\\\Sobre_proyecto_de_investigacion\\\\worldclim\\\\1960-1969\\\\wc2.1_2.5m_prec_1967-09.tif', 'D:\\\\UAT_Doc\\\\Sobre_proyecto_de_investigacion\\\\worldclim\\\\1960-1969\\\\wc2.1_2.5m_prec_1967-10.tif', 'D:\\\\UAT_Doc\\\\Sobre_proyecto_de_investigacion\\\\worldclim\\\\1960-1969\\\\wc2.1_2.5m_prec_1967-11.tif', 'D:\\\\UAT_Doc\\\\Sobre_proyecto_de_investigacion\\\\worldclim\\\\1960-1969\\\\wc2.1_2.5m_prec_1967-12.tif', 'D:\\\\UAT_Doc\\\\Sobre_proyecto_de_investigacion\\\\worldclim\\\\1960-1969\\\\wc2.1_2.5m_prec_1968-01.tif', 'D:\\\\UAT_Doc\\\\Sobre_proyecto_de_investigacion\\\\worldclim\\\\1960-1969\\\\wc2.1_2.5m_prec_1968-02.tif', 'D:\\\\UAT_Doc\\\\Sobre_proyecto_de_investigacion\\\\worldclim\\\\1960-1969\\\\wc2.1_2.5m_prec_1968-03.tif', 'D:\\\\UAT_Doc\\\\Sobre_proyecto_de_investigacion\\\\worldclim\\\\1960-1969\\\\wc2.1_2.5m_prec_1968-04.tif', 'D:\\\\UAT_Doc\\\\Sobre_proyecto_de_investigacion\\\\worldclim\\\\1960-1969\\\\wc2.1_2.5m_prec_1968-05.tif', 'D:\\\\UAT_Doc\\\\Sobre_proyecto_de_investigacion\\\\worldclim\\\\1960-1969\\\\wc2.1_2.5m_prec_1968-06.tif', 'D:\\\\UAT_Doc\\\\Sobre_proyecto_de_investigacion\\\\worldclim\\\\1960-1969\\\\wc2.1_2.5m_prec_1968-07.tif', 'D:\\\\UAT_Doc\\\\Sobre_proyecto_de_investigacion\\\\worldclim\\\\1960-1969\\\\wc2.1_2.5m_prec_1968-08.tif', 'D:\\\\UAT_Doc\\\\Sobre_proyecto_de_investigacion\\\\worldclim\\\\1960-1969\\\\wc2.1_2.5m_prec_1968-09.tif', 'D:\\\\UAT_Doc\\\\Sobre_proyecto_de_investigacion\\\\worldclim\\\\1960-1969\\\\wc2.1_2.5m_prec_1968-10.tif', 'D:\\\\UAT_Doc\\\\Sobre_proyecto_de_investigacion\\\\worldclim\\\\1960-1969\\\\wc2.1_2.5m_prec_1968-11.tif', 'D:\\\\UAT_Doc\\\\Sobre_proyecto_de_investigacion\\\\worldclim\\\\1960-1969\\\\wc2.1_2.5m_prec_1968-12.tif', 'D:\\\\UAT_Doc\\\\Sobre_proyecto_de_investigacion\\\\worldclim\\\\1960-1969\\\\wc2.1_2.5m_prec_1969-01.tif', 'D:\\\\UAT_Doc\\\\Sobre_proyecto_de_investigacion\\\\worldclim\\\\1960-1969\\\\wc2.1_2.5m_prec_1969-02.tif', 'D:\\\\UAT_Doc\\\\Sobre_proyecto_de_investigacion\\\\worldclim\\\\1960-1969\\\\wc2.1_2.5m_prec_1969-03.tif', 'D:\\\\UAT_Doc\\\\Sobre_proyecto_de_investigacion\\\\worldclim\\\\1960-1969\\\\wc2.1_2.5m_prec_1969-04.tif', 'D:\\\\UAT_Doc\\\\Sobre_proyecto_de_investigacion\\\\worldclim\\\\1960-1969\\\\wc2.1_2.5m_prec_1969-05.tif', 'D:\\\\UAT_Doc\\\\Sobre_proyecto_de_investigacion\\\\worldclim\\\\1960-1969\\\\wc2.1_2.5m_prec_1969-06.tif', 'D:\\\\UAT_Doc\\\\Sobre_proyecto_de_investigacion\\\\worldclim\\\\1960-1969\\\\wc2.1_2.5m_prec_1969-07.tif', 'D:\\\\UAT_Doc\\\\Sobre_proyecto_de_investigacion\\\\worldclim\\\\1960-1969\\\\wc2.1_2.5m_prec_1969-08.tif', 'D:\\\\UAT_Doc\\\\Sobre_proyecto_de_investigacion\\\\worldclim\\\\1960-1969\\\\wc2.1_2.5m_prec_1969-09.tif', 'D:\\\\UAT_Doc\\\\Sobre_proyecto_de_investigacion\\\\worldclim\\\\1960-1969\\\\wc2.1_2.5m_prec_1969-10.tif', 'D:\\\\UAT_Doc\\\\Sobre_proyecto_de_investigacion\\\\worldclim\\\\1960-1969\\\\wc2.1_2.5m_prec_1969-11.tif', 'D:\\\\UAT_Doc\\\\Sobre_proyecto_de_investigacion\\\\worldclim\\\\1960-1969\\\\wc2.1_2.5m_prec_1969-12.tif']\n"
     ]
    }
   ],
   "source": [
    "list1960to1969 = [os.path.join (path1960to1969, band) for band in os.listdir(path1960to1969) if band.endswith('tif')]\n",
    "print(list1960to1969)"
   ]
  },
  {
   "cell_type": "markdown",
   "id": "27f97d70-f045-4680-98c7-4c118eb374e2",
   "metadata": {},
   "source": [
    "## Verificar las rutas"
   ]
  },
  {
   "cell_type": "code",
   "execution_count": 55,
   "id": "cc984be2-74f3-492a-9f26-19e65fb46eaa",
   "metadata": {},
   "outputs": [],
   "source": [
    "for raster_path in list1960to1969:\n",
    "    if not os.path.exists(raster_path):\n",
    "        print(f'el archivo {raster_path} no existe.')\n",
    "        raise FileNotFoundError (f'El archivo {raster_path} no existe.')"
   ]
  },
  {
   "cell_type": "code",
   "execution_count": 56,
   "id": "9dd646fb-3d66-487f-8435-d4f77091c9c5",
   "metadata": {},
   "outputs": [
    {
     "data": {
      "text/html": [
       "<div>\n",
       "<style scoped>\n",
       "    .dataframe tbody tr th:only-of-type {\n",
       "        vertical-align: middle;\n",
       "    }\n",
       "\n",
       "    .dataframe tbody tr th {\n",
       "        vertical-align: top;\n",
       "    }\n",
       "\n",
       "    .dataframe thead th {\n",
       "        text-align: right;\n",
       "    }\n",
       "</style>\n",
       "<table border=\"1\" class=\"dataframe\">\n",
       "  <thead>\n",
       "    <tr style=\"text-align: right;\">\n",
       "      <th></th>\n",
       "      <th>Estacion</th>\n",
       "      <th>Nom_Est</th>\n",
       "      <th>Mun</th>\n",
       "      <th>Estado</th>\n",
       "      <th>Situacion</th>\n",
       "      <th>Lat</th>\n",
       "      <th>Long</th>\n",
       "      <th>geometry</th>\n",
       "    </tr>\n",
       "  </thead>\n",
       "  <tbody>\n",
       "    <tr>\n",
       "      <th>0</th>\n",
       "      <td>30166</td>\n",
       "      <td>Tamos</td>\n",
       "      <td>Panuco</td>\n",
       "      <td>Veracruz</td>\n",
       "      <td>Operando</td>\n",
       "      <td>22.216111</td>\n",
       "      <td>-97.998611</td>\n",
       "      <td>POINT (-97.99861 22.21611)</td>\n",
       "    </tr>\n",
       "    <tr>\n",
       "      <th>1</th>\n",
       "      <td>28055</td>\n",
       "      <td>Los Tomates</td>\n",
       "      <td>Altamira</td>\n",
       "      <td>Tamaulipas</td>\n",
       "      <td>Operando</td>\n",
       "      <td>22.452778</td>\n",
       "      <td>-98.197222</td>\n",
       "      <td>POINT (-98.19722 22.45278)</td>\n",
       "    </tr>\n",
       "  </tbody>\n",
       "</table>\n",
       "</div>"
      ],
      "text/plain": [
       "   Estacion      Nom_Est       Mun      Estado Situacion        Lat  \\\n",
       "0     30166        Tamos    Panuco    Veracruz  Operando  22.216111   \n",
       "1     28055  Los Tomates  Altamira  Tamaulipas  Operando  22.452778   \n",
       "\n",
       "        Long                    geometry  \n",
       "0 -97.998611  POINT (-97.99861 22.21611)  \n",
       "1 -98.197222  POINT (-98.19722 22.45278)  "
      ]
     },
     "execution_count": 56,
     "metadata": {},
     "output_type": "execute_result"
    }
   ],
   "source": [
    "Estaciones = gpd.read_file(path_Estaciones)\n",
    "Estaciones"
   ]
  },
  {
   "cell_type": "code",
   "execution_count": 59,
   "id": "c1ac78b8-b2f8-4a91-930c-53e1f08628bb",
   "metadata": {},
   "outputs": [
    {
     "data": {
      "text/plain": [
       "['Tamos', 'Los Tomates']"
      ]
     },
     "execution_count": 59,
     "metadata": {},
     "output_type": "execute_result"
    }
   ],
   "source": [
    "listEst = [nom for nom in Estaciones.Nom_Est]\n",
    "listEst"
   ]
  },
  {
   "cell_type": "code",
   "execution_count": 72,
   "id": "f7147c0d-b5bf-44c2-8eb2-ac0f63001013",
   "metadata": {},
   "outputs": [],
   "source": [
    "dfs_por_Estacion = {} \n",
    "for Est in listEst:\n",
    "    dfs_por_Estacion[Est] = pd.DataFrame(columns=['año_mes','PCP_mm'])"
   ]
  },
  {
   "cell_type": "code",
   "execution_count": 58,
   "id": "56fb06ce-3d79-4c69-8afb-ae55beaf9fdb",
   "metadata": {},
   "outputs": [
    {
     "data": {
      "text/plain": [
       "[(-97.99861111, 22.21611111), (-98.19722222, 22.45277778)]"
      ]
     },
     "execution_count": 58,
     "metadata": {},
     "output_type": "execute_result"
    }
   ],
   "source": [
    "coordenadas = [(geom.x, geom.y) for geom in Estaciones.geometry]\n",
    "coordenadas"
   ]
  },
  {
   "cell_type": "code",
   "execution_count": 74,
   "id": "cd89c20a-07a5-4424-8fc9-9fdde51e2b2e",
   "metadata": {},
   "outputs": [],
   "source": [
    "path1960to1969xls = r\"D:\\UAT_Doc\\Sobre_proyecto_de_investigacion\\worldclim\\PCP2_1960_1969.xlsx\""
   ]
  },
  {
   "cell_type": "markdown",
   "id": "8079db9a-d476-44d3-ba09-765e7f2e5fdf",
   "metadata": {},
   "source": [
    "# Extraccion de valores"
   ]
  },
  {
   "cell_type": "code",
   "execution_count": 75,
   "id": "65a091eb-1100-44ba-93fe-13cfd2077ad8",
   "metadata": {},
   "outputs": [],
   "source": [
    "for raster_path in list1960to1969:\n",
    "    with rasterio.open(raster_path) as raster:\n",
    "        raster_name2 = os.path.splitext(os.path.basename(raster_path))[0]\n",
    "        raster_name = raster_name2.split('_')[-1]\n",
    "    \n",
    "        for Est, coordenada in zip(listEst, coordenadas):\n",
    "            PCP = raster.sample([coordenada]) #Obteniendo el generador\n",
    "            pcp = list(PCP) #Convirtiendo el generador en lista\n",
    "            \n",
    "            if pcp and pcp[0]:\n",
    "                dfs_por_Estacion[Est] = dfs_por_Estacion[Est].append({'año_mes':raster_name,'PCP_mm':pcp[0][0]}, ignore_index=True)\n",
    "          \n",
    "    \n",
    "    \n",
    "with pd.ExcelWriter(path1960to1969xls) as writer:\n",
    "    for Est, df_Est in dfs_por_Estacion.items():\n",
    "        df_Est.to_excel(writer, sheet_name=Est, index=False)\n",
    "        "
   ]
  },
  {
   "cell_type": "code",
   "execution_count": 71,
   "id": "be7afed7-0d97-4604-abf0-d0114d3f5ac8",
   "metadata": {},
   "outputs": [
    {
     "data": {
      "text/plain": [
       "{'Los Tomates':      año_mes     PCP_mm\n",
       " 0    1960-01  11.400000\n",
       " 1    1960-01   8.100000\n",
       " 2    1960-02   7.400000\n",
       " 3    1960-02   5.800000\n",
       " 4    1960-03   7.700000\n",
       " ..       ...        ...\n",
       " 475  1969-10  87.800003\n",
       " 476  1969-11  24.400000\n",
       " 477  1969-11  24.000000\n",
       " 478  1969-12  22.299999\n",
       " 479  1969-12  13.800000\n",
       " \n",
       " [480 rows x 2 columns]}"
      ]
     },
     "execution_count": 71,
     "metadata": {},
     "output_type": "execute_result"
    }
   ],
   "source": [
    "dfs_por_Estacion"
   ]
  },
  {
   "cell_type": "markdown",
   "id": "a717571f-3eb8-4c2c-b687-7bf46fd37214",
   "metadata": {},
   "source": [
    "# Exportar a Excel"
   ]
  },
  {
   "cell_type": "code",
   "execution_count": null,
   "id": "0ce6a3d1-0334-4bef-b382-bc2b84daa78c",
   "metadata": {},
   "outputs": [],
   "source": [
    "df.to_excel(path1960to1969xls, index = False)\n",
    "print(f'los valores han sido extraidos y enviados a {path1960to1969xls}')"
   ]
  },
  {
   "cell_type": "code",
   "execution_count": null,
   "id": "61d0bcf4-5594-4fea-886f-5e4081dda37c",
   "metadata": {},
   "outputs": [],
   "source": []
  }
 ],
 "metadata": {
  "kernelspec": {
   "display_name": "Python 3 (ipykernel)",
   "language": "python",
   "name": "python3"
  },
  "language_info": {
   "codemirror_mode": {
    "name": "ipython",
    "version": 3
   },
   "file_extension": ".py",
   "mimetype": "text/x-python",
   "name": "python",
   "nbconvert_exporter": "python",
   "pygments_lexer": "ipython3",
   "version": "3.7.16"
  },
  "toc-autonumbering": true,
  "toc-showmarkdowntxt": true
 },
 "nbformat": 4,
 "nbformat_minor": 5
}
