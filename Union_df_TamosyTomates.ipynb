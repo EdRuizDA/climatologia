{
 "cells": [
  {
   "cell_type": "markdown",
   "id": "bf330b03-135e-4415-8a2a-3902e9e5c48e",
   "metadata": {},
   "source": [
    "# Librerias"
   ]
  },
  {
   "cell_type": "code",
   "execution_count": 2,
   "id": "b8d06711-e2b8-4c31-b89a-46302243aac8",
   "metadata": {},
   "outputs": [],
   "source": [
    "import os\n",
    "import geopandas as gpd\n",
    "import rasterio\n",
    "from rasterio.plot import show\n",
    "import matplotlib.pyplot as plt\n",
    "import pandas as pd\n",
    "import numpy as np"
   ]
  },
  {
   "cell_type": "markdown",
   "id": "34fef256-6bd2-4458-99c2-0756ddd711f7",
   "metadata": {},
   "source": [
    "# Rutas de PCP"
   ]
  },
  {
   "cell_type": "code",
   "execution_count": 3,
   "id": "c46f6dd9-7fd6-47b1-9578-1653ce56f31f",
   "metadata": {},
   "outputs": [],
   "source": [
    "pathPCP1960to1969 = r'D:\\UAT_Doc\\Climatologia_Tomates_Tamos\\xlsx\\PCP_1960_1969.xlsx'\n",
    "pathPCP1970to1979 = r'D:\\UAT_Doc\\Climatologia_Tomates_Tamos\\xlsx\\PCP_1970_1979.xlsx'\n",
    "pathPCP1980to1989 = r'D:\\UAT_Doc\\Climatologia_Tomates_Tamos\\xlsx\\PCP_1980_1989.xlsx'\n",
    "pathPCP1990to1999 = r'D:\\UAT_Doc\\Climatologia_Tomates_Tamos\\xlsx\\PCP_1990_1999.xlsx'\n",
    "pathPCP2000to2009 = r'D:\\UAT_Doc\\Climatologia_Tomates_Tamos\\xlsx\\PCP_2000_2009.xlsx'\n",
    "pathPCP2010to2019 = r'D:\\UAT_Doc\\Climatologia_Tomates_Tamos\\xlsx\\PCP_2010_2019.xlsx'\n",
    "pathPCP2020to2021 = r'D:\\UAT_Doc\\Climatologia_Tomates_Tamos\\xlsx\\PCP_2020_2021.xlsx'"
   ]
  },
  {
   "cell_type": "markdown",
   "id": "8692f4e2-b6b1-43dd-af01-7672d18c6878",
   "metadata": {},
   "source": [
    "# Estacion Tamos"
   ]
  },
  {
   "cell_type": "code",
   "execution_count": 6,
   "id": "7069a446-86b0-4217-aaa3-aa86c853ebd9",
   "metadata": {},
   "outputs": [],
   "source": [
    "df_tamos1960to1969 = pd.read_excel(pathPCP1960to1969, sheet_name=0)\n",
    "df_tamos1970to1979 = pd.read_excel(pathPCP1970to1979, sheet_name=0)\n",
    "df_tamos1980to1989 = pd.read_excel(pathPCP1980to1989, sheet_name=0)\n",
    "df_tamos1990to1999 = pd.read_excel(pathPCP1990to1999, sheet_name=0)\n",
    "df_tamos2000to2009 = pd.read_excel(pathPCP2000to2009, sheet_name=0)\n",
    "df_tamos2010to2019 = pd.read_excel(pathPCP2010to2019, sheet_name=0)\n",
    "df_tamos2020to2021 = pd.read_excel(pathPCP2020to2021, sheet_name=0)"
   ]
  },
  {
   "cell_type": "code",
   "execution_count": 9,
   "id": "2730bf29-949a-4f15-8f72-233ccaabbd8a",
   "metadata": {},
   "outputs": [],
   "source": [
    "df_Tamos = pd.concat([df_tamos1960to1969, df_tamos1970to1979, df_tamos1980to1989, df_tamos1990to1999, df_tamos2000to2009, df_tamos2010to2019, df_tamos2020to2021], ignore_index=True)"
   ]
  },
  {
   "cell_type": "code",
   "execution_count": 10,
   "id": "73b8dfc3-a3a0-4c1e-810e-185fe927eb40",
   "metadata": {},
   "outputs": [
    {
     "data": {
      "text/html": [
       "<div>\n",
       "<style scoped>\n",
       "    .dataframe tbody tr th:only-of-type {\n",
       "        vertical-align: middle;\n",
       "    }\n",
       "\n",
       "    .dataframe tbody tr th {\n",
       "        vertical-align: top;\n",
       "    }\n",
       "\n",
       "    .dataframe thead th {\n",
       "        text-align: right;\n",
       "    }\n",
       "</style>\n",
       "<table border=\"1\" class=\"dataframe\">\n",
       "  <thead>\n",
       "    <tr style=\"text-align: right;\">\n",
       "      <th></th>\n",
       "      <th>año_mes</th>\n",
       "      <th>PCP_mm</th>\n",
       "    </tr>\n",
       "  </thead>\n",
       "  <tbody>\n",
       "    <tr>\n",
       "      <th>0</th>\n",
       "      <td>1960-01</td>\n",
       "      <td>11.4</td>\n",
       "    </tr>\n",
       "    <tr>\n",
       "      <th>1</th>\n",
       "      <td>1960-02</td>\n",
       "      <td>7.4</td>\n",
       "    </tr>\n",
       "    <tr>\n",
       "      <th>2</th>\n",
       "      <td>1960-03</td>\n",
       "      <td>7.7</td>\n",
       "    </tr>\n",
       "    <tr>\n",
       "      <th>3</th>\n",
       "      <td>1960-04</td>\n",
       "      <td>19.9</td>\n",
       "    </tr>\n",
       "    <tr>\n",
       "      <th>4</th>\n",
       "      <td>1960-05</td>\n",
       "      <td>45.5</td>\n",
       "    </tr>\n",
       "  </tbody>\n",
       "</table>\n",
       "</div>"
      ],
      "text/plain": [
       "   año_mes  PCP_mm\n",
       "0  1960-01    11.4\n",
       "1  1960-02     7.4\n",
       "2  1960-03     7.7\n",
       "3  1960-04    19.9\n",
       "4  1960-05    45.5"
      ]
     },
     "execution_count": 10,
     "metadata": {},
     "output_type": "execute_result"
    }
   ],
   "source": [
    "df_Tamos.head()"
   ]
  },
  {
   "cell_type": "code",
   "execution_count": 11,
   "id": "c5ec2dd0-3ef3-4abd-a9c4-22215aaf61c8",
   "metadata": {},
   "outputs": [
    {
     "data": {
      "text/html": [
       "<div>\n",
       "<style scoped>\n",
       "    .dataframe tbody tr th:only-of-type {\n",
       "        vertical-align: middle;\n",
       "    }\n",
       "\n",
       "    .dataframe tbody tr th {\n",
       "        vertical-align: top;\n",
       "    }\n",
       "\n",
       "    .dataframe thead th {\n",
       "        text-align: right;\n",
       "    }\n",
       "</style>\n",
       "<table border=\"1\" class=\"dataframe\">\n",
       "  <thead>\n",
       "    <tr style=\"text-align: right;\">\n",
       "      <th></th>\n",
       "      <th>año_mes</th>\n",
       "      <th>PCP_mm</th>\n",
       "    </tr>\n",
       "  </thead>\n",
       "  <tbody>\n",
       "    <tr>\n",
       "      <th>739</th>\n",
       "      <td>2021-08</td>\n",
       "      <td>166.699997</td>\n",
       "    </tr>\n",
       "    <tr>\n",
       "      <th>740</th>\n",
       "      <td>2021-09</td>\n",
       "      <td>212.399994</td>\n",
       "    </tr>\n",
       "    <tr>\n",
       "      <th>741</th>\n",
       "      <td>2021-10</td>\n",
       "      <td>105.500000</td>\n",
       "    </tr>\n",
       "    <tr>\n",
       "      <th>742</th>\n",
       "      <td>2021-11</td>\n",
       "      <td>65.800003</td>\n",
       "    </tr>\n",
       "    <tr>\n",
       "      <th>743</th>\n",
       "      <td>2021-12</td>\n",
       "      <td>14.900000</td>\n",
       "    </tr>\n",
       "  </tbody>\n",
       "</table>\n",
       "</div>"
      ],
      "text/plain": [
       "     año_mes      PCP_mm\n",
       "739  2021-08  166.699997\n",
       "740  2021-09  212.399994\n",
       "741  2021-10  105.500000\n",
       "742  2021-11   65.800003\n",
       "743  2021-12   14.900000"
      ]
     },
     "execution_count": 11,
     "metadata": {},
     "output_type": "execute_result"
    }
   ],
   "source": [
    "df_Tamos.tail()"
   ]
  },
  {
   "cell_type": "raw",
   "id": "2f824e0b-c4c4-4a82-b405-c4323da2fcf4",
   "metadata": {},
   "source": [
    "df_Tamos.to_csv(pathPCPTamos,index=False)"
   ]
  },
  {
   "cell_type": "markdown",
   "id": "e751d3fe-75db-4344-919f-8293a7684842",
   "metadata": {},
   "source": [
    "# Estacion Tomates"
   ]
  },
  {
   "cell_type": "code",
   "execution_count": 15,
   "id": "1805abf6-82a8-466f-938a-43ab7d6bf103",
   "metadata": {},
   "outputs": [],
   "source": [
    "df_tomates1960to1969 = pd.read_excel(pathPCP1960to1969, sheet_name=1)\n",
    "df_tomates1970to1979 = pd.read_excel(pathPCP1970to1979, sheet_name=1)\n",
    "df_tomates1980to1989 = pd.read_excel(pathPCP1980to1989, sheet_name=1)\n",
    "df_tomates1990to1999 = pd.read_excel(pathPCP1990to1999, sheet_name=1)\n",
    "df_tomates2000to2009 = pd.read_excel(pathPCP2000to2009, sheet_name=1)\n",
    "df_tomates2010to2019 = pd.read_excel(pathPCP2010to2019, sheet_name=1)\n",
    "df_tomates2020to2021 = pd.read_excel(pathPCP2020to2021, sheet_name=1)"
   ]
  },
  {
   "cell_type": "code",
   "execution_count": 16,
   "id": "f45c264e-3d60-4292-98b7-95678b6ae263",
   "metadata": {},
   "outputs": [],
   "source": [
    "df_Tomates = pd.concat([df_tomates1960to1969, df_tomates1970to1979, df_tomates1980to1989, df_tomates1990to1999, df_tomates2000to2009, df_tomates2010to2019, df_tomates2020to2021], ignore_index=True)"
   ]
  },
  {
   "cell_type": "code",
   "execution_count": 17,
   "id": "46f2ddfb-79ad-4aec-bf11-61f9b1b0b0b1",
   "metadata": {},
   "outputs": [
    {
     "data": {
      "text/html": [
       "<div>\n",
       "<style scoped>\n",
       "    .dataframe tbody tr th:only-of-type {\n",
       "        vertical-align: middle;\n",
       "    }\n",
       "\n",
       "    .dataframe tbody tr th {\n",
       "        vertical-align: top;\n",
       "    }\n",
       "\n",
       "    .dataframe thead th {\n",
       "        text-align: right;\n",
       "    }\n",
       "</style>\n",
       "<table border=\"1\" class=\"dataframe\">\n",
       "  <thead>\n",
       "    <tr style=\"text-align: right;\">\n",
       "      <th></th>\n",
       "      <th>año_mes</th>\n",
       "      <th>PCP_mm</th>\n",
       "    </tr>\n",
       "  </thead>\n",
       "  <tbody>\n",
       "    <tr>\n",
       "      <th>0</th>\n",
       "      <td>1960-01</td>\n",
       "      <td>8.100000</td>\n",
       "    </tr>\n",
       "    <tr>\n",
       "      <th>1</th>\n",
       "      <td>1960-02</td>\n",
       "      <td>5.800000</td>\n",
       "    </tr>\n",
       "    <tr>\n",
       "      <th>2</th>\n",
       "      <td>1960-03</td>\n",
       "      <td>7.900000</td>\n",
       "    </tr>\n",
       "    <tr>\n",
       "      <th>3</th>\n",
       "      <td>1960-04</td>\n",
       "      <td>19.700001</td>\n",
       "    </tr>\n",
       "    <tr>\n",
       "      <th>4</th>\n",
       "      <td>1960-05</td>\n",
       "      <td>37.000000</td>\n",
       "    </tr>\n",
       "  </tbody>\n",
       "</table>\n",
       "</div>"
      ],
      "text/plain": [
       "   año_mes     PCP_mm\n",
       "0  1960-01   8.100000\n",
       "1  1960-02   5.800000\n",
       "2  1960-03   7.900000\n",
       "3  1960-04  19.700001\n",
       "4  1960-05  37.000000"
      ]
     },
     "execution_count": 17,
     "metadata": {},
     "output_type": "execute_result"
    }
   ],
   "source": [
    "df_Tomates.head()"
   ]
  },
  {
   "cell_type": "code",
   "execution_count": 19,
   "id": "6da73a77-58d7-4225-b187-2c231b51db3a",
   "metadata": {},
   "outputs": [
    {
     "name": "stdout",
     "output_type": "stream",
     "text": [
      "<class 'pandas.core.frame.DataFrame'>\n",
      "RangeIndex: 744 entries, 0 to 743\n",
      "Data columns (total 2 columns):\n",
      " #   Column   Non-Null Count  Dtype  \n",
      "---  ------   --------------  -----  \n",
      " 0   año_mes  744 non-null    object \n",
      " 1   PCP_mm   744 non-null    float64\n",
      "dtypes: float64(1), object(1)\n",
      "memory usage: 11.8+ KB\n"
     ]
    }
   ],
   "source": [
    "df_Tomates.info()"
   ]
  },
  {
   "cell_type": "code",
   "execution_count": 18,
   "id": "cdc18fe6-9411-40b2-84a4-2085212f3360",
   "metadata": {},
   "outputs": [
    {
     "data": {
      "text/html": [
       "<div>\n",
       "<style scoped>\n",
       "    .dataframe tbody tr th:only-of-type {\n",
       "        vertical-align: middle;\n",
       "    }\n",
       "\n",
       "    .dataframe tbody tr th {\n",
       "        vertical-align: top;\n",
       "    }\n",
       "\n",
       "    .dataframe thead th {\n",
       "        text-align: right;\n",
       "    }\n",
       "</style>\n",
       "<table border=\"1\" class=\"dataframe\">\n",
       "  <thead>\n",
       "    <tr style=\"text-align: right;\">\n",
       "      <th></th>\n",
       "      <th>año_mes</th>\n",
       "      <th>PCP_mm</th>\n",
       "    </tr>\n",
       "  </thead>\n",
       "  <tbody>\n",
       "    <tr>\n",
       "      <th>739</th>\n",
       "      <td>2021-08</td>\n",
       "      <td>159.000000</td>\n",
       "    </tr>\n",
       "    <tr>\n",
       "      <th>740</th>\n",
       "      <td>2021-09</td>\n",
       "      <td>192.100006</td>\n",
       "    </tr>\n",
       "    <tr>\n",
       "      <th>741</th>\n",
       "      <td>2021-10</td>\n",
       "      <td>85.500000</td>\n",
       "    </tr>\n",
       "    <tr>\n",
       "      <th>742</th>\n",
       "      <td>2021-11</td>\n",
       "      <td>56.900002</td>\n",
       "    </tr>\n",
       "    <tr>\n",
       "      <th>743</th>\n",
       "      <td>2021-12</td>\n",
       "      <td>13.000000</td>\n",
       "    </tr>\n",
       "  </tbody>\n",
       "</table>\n",
       "</div>"
      ],
      "text/plain": [
       "     año_mes      PCP_mm\n",
       "739  2021-08  159.000000\n",
       "740  2021-09  192.100006\n",
       "741  2021-10   85.500000\n",
       "742  2021-11   56.900002\n",
       "743  2021-12   13.000000"
      ]
     },
     "execution_count": 18,
     "metadata": {},
     "output_type": "execute_result"
    }
   ],
   "source": [
    "df_Tomates.tail()"
   ]
  },
  {
   "cell_type": "markdown",
   "id": "b05f4bb7-35c5-403f-84d3-622caa5b10d9",
   "metadata": {},
   "source": [
    "# Exportando a Excel"
   ]
  },
  {
   "cell_type": "code",
   "execution_count": 23,
   "id": "880fb45d-2de9-4bbf-90d3-9e477114f87e",
   "metadata": {},
   "outputs": [],
   "source": [
    "pathPCPTamosyTomates = r'D:\\UAT_Doc\\Climatologia_Tomates_Tamos\\xlsx\\Tamos y Tomates_PCP1960to2021_wc2.5m.xlsx'"
   ]
  },
  {
   "cell_type": "code",
   "execution_count": 24,
   "id": "0f10da6d-39ef-4a7f-8ec2-5d41b549472a",
   "metadata": {},
   "outputs": [],
   "source": [
    "with pd.ExcelWriter(pathPCPTamosyTomates) as writer:\n",
    "    df_Tamos.to_excel(writer, sheet_name='Est_30166_Tamos',index=False)\n",
    "    df_Tomates.to_excel(writer, sheet_name = 'Est_28055_Tomates',index=False)    "
   ]
  }
 ],
 "metadata": {
  "kernelspec": {
   "display_name": "Python 3 (ipykernel)",
   "language": "python",
   "name": "python3"
  },
  "language_info": {
   "codemirror_mode": {
    "name": "ipython",
    "version": 3
   },
   "file_extension": ".py",
   "mimetype": "text/x-python",
   "name": "python",
   "nbconvert_exporter": "python",
   "pygments_lexer": "ipython3",
   "version": "3.7.16"
  },
  "toc-autonumbering": true,
  "toc-showmarkdowntxt": true
 },
 "nbformat": 4,
 "nbformat_minor": 5
}
